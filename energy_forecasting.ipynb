{
  "cells": [
    {
      "cell_type": "code",
      "execution_count": 117,
      "metadata": {
        "id": "MOixZKmzmaza"
      },
      "outputs": [],
      "source": [
        "import pandas as pd\n",
        "import seaborn as sns\n",
        "import matplotlib.pyplot as plt\n",
        "import numpy as np\n",
        "import datetime\n",
        "import warnings\n",
        "warnings.simplefilter(action='ignore', category=FutureWarning)"
      ]
    },
    {
      "cell_type": "code",
      "execution_count": 118,
      "metadata": {
        "colab": {
          "base_uri": "https://localhost:8080/",
          "height": 455
        },
        "id": "y1Vfuy3Umazc",
        "outputId": "ec23b376-853a-4c9e-9a47-b823e5f0d02b"
      },
      "outputs": [
        {
          "data": {
            "text/html": [
              "<div>\n",
              "<style scoped>\n",
              "    .dataframe tbody tr th:only-of-type {\n",
              "        vertical-align: middle;\n",
              "    }\n",
              "\n",
              "    .dataframe tbody tr th {\n",
              "        vertical-align: top;\n",
              "    }\n",
              "\n",
              "    .dataframe thead th {\n",
              "        text-align: right;\n",
              "    }\n",
              "</style>\n",
              "<table border=\"1\" class=\"dataframe\">\n",
              "  <thead>\n",
              "    <tr style=\"text-align: right;\">\n",
              "      <th></th>\n",
              "      <th>time</th>\n",
              "      <th>generation biomass</th>\n",
              "      <th>generation fossil brown coal/lignite</th>\n",
              "      <th>generation fossil coal-derived gas</th>\n",
              "      <th>generation fossil gas</th>\n",
              "      <th>generation fossil hard coal</th>\n",
              "      <th>generation fossil oil</th>\n",
              "      <th>generation fossil oil shale</th>\n",
              "      <th>generation fossil peat</th>\n",
              "      <th>generation geothermal</th>\n",
              "      <th>...</th>\n",
              "      <th>generation waste</th>\n",
              "      <th>generation wind offshore</th>\n",
              "      <th>generation wind onshore</th>\n",
              "      <th>forecast solar day ahead</th>\n",
              "      <th>forecast wind offshore eday ahead</th>\n",
              "      <th>forecast wind onshore day ahead</th>\n",
              "      <th>total load forecast</th>\n",
              "      <th>total load actual</th>\n",
              "      <th>price day ahead</th>\n",
              "      <th>price actual</th>\n",
              "    </tr>\n",
              "  </thead>\n",
              "  <tbody>\n",
              "    <tr>\n",
              "      <th>0</th>\n",
              "      <td>2015-01-01 00:00:00+01:00</td>\n",
              "      <td>447.0</td>\n",
              "      <td>329.0</td>\n",
              "      <td>0.0</td>\n",
              "      <td>4844.0</td>\n",
              "      <td>4821.0</td>\n",
              "      <td>162.0</td>\n",
              "      <td>0.0</td>\n",
              "      <td>0.0</td>\n",
              "      <td>0.0</td>\n",
              "      <td>...</td>\n",
              "      <td>196.0</td>\n",
              "      <td>0.0</td>\n",
              "      <td>6378.0</td>\n",
              "      <td>17.0</td>\n",
              "      <td>NaN</td>\n",
              "      <td>6436.0</td>\n",
              "      <td>26118.0</td>\n",
              "      <td>25385.0</td>\n",
              "      <td>50.10</td>\n",
              "      <td>65.41</td>\n",
              "    </tr>\n",
              "    <tr>\n",
              "      <th>1</th>\n",
              "      <td>2015-01-01 01:00:00+01:00</td>\n",
              "      <td>449.0</td>\n",
              "      <td>328.0</td>\n",
              "      <td>0.0</td>\n",
              "      <td>5196.0</td>\n",
              "      <td>4755.0</td>\n",
              "      <td>158.0</td>\n",
              "      <td>0.0</td>\n",
              "      <td>0.0</td>\n",
              "      <td>0.0</td>\n",
              "      <td>...</td>\n",
              "      <td>195.0</td>\n",
              "      <td>0.0</td>\n",
              "      <td>5890.0</td>\n",
              "      <td>16.0</td>\n",
              "      <td>NaN</td>\n",
              "      <td>5856.0</td>\n",
              "      <td>24934.0</td>\n",
              "      <td>24382.0</td>\n",
              "      <td>48.10</td>\n",
              "      <td>64.92</td>\n",
              "    </tr>\n",
              "    <tr>\n",
              "      <th>2</th>\n",
              "      <td>2015-01-01 02:00:00+01:00</td>\n",
              "      <td>448.0</td>\n",
              "      <td>323.0</td>\n",
              "      <td>0.0</td>\n",
              "      <td>4857.0</td>\n",
              "      <td>4581.0</td>\n",
              "      <td>157.0</td>\n",
              "      <td>0.0</td>\n",
              "      <td>0.0</td>\n",
              "      <td>0.0</td>\n",
              "      <td>...</td>\n",
              "      <td>196.0</td>\n",
              "      <td>0.0</td>\n",
              "      <td>5461.0</td>\n",
              "      <td>8.0</td>\n",
              "      <td>NaN</td>\n",
              "      <td>5454.0</td>\n",
              "      <td>23515.0</td>\n",
              "      <td>22734.0</td>\n",
              "      <td>47.33</td>\n",
              "      <td>64.48</td>\n",
              "    </tr>\n",
              "    <tr>\n",
              "      <th>3</th>\n",
              "      <td>2015-01-01 03:00:00+01:00</td>\n",
              "      <td>438.0</td>\n",
              "      <td>254.0</td>\n",
              "      <td>0.0</td>\n",
              "      <td>4314.0</td>\n",
              "      <td>4131.0</td>\n",
              "      <td>160.0</td>\n",
              "      <td>0.0</td>\n",
              "      <td>0.0</td>\n",
              "      <td>0.0</td>\n",
              "      <td>...</td>\n",
              "      <td>191.0</td>\n",
              "      <td>0.0</td>\n",
              "      <td>5238.0</td>\n",
              "      <td>2.0</td>\n",
              "      <td>NaN</td>\n",
              "      <td>5151.0</td>\n",
              "      <td>22642.0</td>\n",
              "      <td>21286.0</td>\n",
              "      <td>42.27</td>\n",
              "      <td>59.32</td>\n",
              "    </tr>\n",
              "    <tr>\n",
              "      <th>4</th>\n",
              "      <td>2015-01-01 04:00:00+01:00</td>\n",
              "      <td>428.0</td>\n",
              "      <td>187.0</td>\n",
              "      <td>0.0</td>\n",
              "      <td>4130.0</td>\n",
              "      <td>3840.0</td>\n",
              "      <td>156.0</td>\n",
              "      <td>0.0</td>\n",
              "      <td>0.0</td>\n",
              "      <td>0.0</td>\n",
              "      <td>...</td>\n",
              "      <td>189.0</td>\n",
              "      <td>0.0</td>\n",
              "      <td>4935.0</td>\n",
              "      <td>9.0</td>\n",
              "      <td>NaN</td>\n",
              "      <td>4861.0</td>\n",
              "      <td>21785.0</td>\n",
              "      <td>20264.0</td>\n",
              "      <td>38.41</td>\n",
              "      <td>56.04</td>\n",
              "    </tr>\n",
              "  </tbody>\n",
              "</table>\n",
              "<p>5 rows × 29 columns</p>\n",
              "</div>"
            ],
            "text/plain": [
              "                        time  generation biomass  \\\n",
              "0  2015-01-01 00:00:00+01:00               447.0   \n",
              "1  2015-01-01 01:00:00+01:00               449.0   \n",
              "2  2015-01-01 02:00:00+01:00               448.0   \n",
              "3  2015-01-01 03:00:00+01:00               438.0   \n",
              "4  2015-01-01 04:00:00+01:00               428.0   \n",
              "\n",
              "   generation fossil brown coal/lignite  generation fossil coal-derived gas  \\\n",
              "0                                 329.0                                 0.0   \n",
              "1                                 328.0                                 0.0   \n",
              "2                                 323.0                                 0.0   \n",
              "3                                 254.0                                 0.0   \n",
              "4                                 187.0                                 0.0   \n",
              "\n",
              "   generation fossil gas  generation fossil hard coal  generation fossil oil  \\\n",
              "0                 4844.0                       4821.0                  162.0   \n",
              "1                 5196.0                       4755.0                  158.0   \n",
              "2                 4857.0                       4581.0                  157.0   \n",
              "3                 4314.0                       4131.0                  160.0   \n",
              "4                 4130.0                       3840.0                  156.0   \n",
              "\n",
              "   generation fossil oil shale  generation fossil peat  generation geothermal  \\\n",
              "0                          0.0                     0.0                    0.0   \n",
              "1                          0.0                     0.0                    0.0   \n",
              "2                          0.0                     0.0                    0.0   \n",
              "3                          0.0                     0.0                    0.0   \n",
              "4                          0.0                     0.0                    0.0   \n",
              "\n",
              "   ...  generation waste  generation wind offshore  generation wind onshore  \\\n",
              "0  ...             196.0                       0.0                   6378.0   \n",
              "1  ...             195.0                       0.0                   5890.0   \n",
              "2  ...             196.0                       0.0                   5461.0   \n",
              "3  ...             191.0                       0.0                   5238.0   \n",
              "4  ...             189.0                       0.0                   4935.0   \n",
              "\n",
              "   forecast solar day ahead  forecast wind offshore eday ahead  \\\n",
              "0                      17.0                                NaN   \n",
              "1                      16.0                                NaN   \n",
              "2                       8.0                                NaN   \n",
              "3                       2.0                                NaN   \n",
              "4                       9.0                                NaN   \n",
              "\n",
              "   forecast wind onshore day ahead  total load forecast  total load actual  \\\n",
              "0                           6436.0              26118.0            25385.0   \n",
              "1                           5856.0              24934.0            24382.0   \n",
              "2                           5454.0              23515.0            22734.0   \n",
              "3                           5151.0              22642.0            21286.0   \n",
              "4                           4861.0              21785.0            20264.0   \n",
              "\n",
              "   price day ahead  price actual  \n",
              "0            50.10         65.41  \n",
              "1            48.10         64.92  \n",
              "2            47.33         64.48  \n",
              "3            42.27         59.32  \n",
              "4            38.41         56.04  \n",
              "\n",
              "[5 rows x 29 columns]"
            ]
          },
          "execution_count": 118,
          "metadata": {},
          "output_type": "execute_result"
        }
      ],
      "source": [
        "df = pd.read_csv('energy_dataset.csv.zip')\n",
        "df.head()"
      ]
    },
    {
      "cell_type": "code",
      "execution_count": 119,
      "metadata": {
        "colab": {
          "base_uri": "https://localhost:8080/",
          "height": 463
        },
        "id": "_CG8H-tGmazc",
        "outputId": "0e77c43e-bbff-435a-83df-406cbb515790"
      },
      "outputs": [
        {
          "data": {
            "text/html": [
              "<div>\n",
              "<style scoped>\n",
              "    .dataframe tbody tr th:only-of-type {\n",
              "        vertical-align: middle;\n",
              "    }\n",
              "\n",
              "    .dataframe tbody tr th {\n",
              "        vertical-align: top;\n",
              "    }\n",
              "\n",
              "    .dataframe thead th {\n",
              "        text-align: right;\n",
              "    }\n",
              "</style>\n",
              "<table border=\"1\" class=\"dataframe\">\n",
              "  <thead>\n",
              "    <tr style=\"text-align: right;\">\n",
              "      <th></th>\n",
              "      <th>generation biomass</th>\n",
              "      <th>generation fossil brown coal/lignite</th>\n",
              "      <th>generation fossil coal-derived gas</th>\n",
              "      <th>generation fossil gas</th>\n",
              "      <th>generation fossil hard coal</th>\n",
              "      <th>generation fossil oil</th>\n",
              "      <th>generation fossil oil shale</th>\n",
              "      <th>generation fossil peat</th>\n",
              "      <th>generation geothermal</th>\n",
              "      <th>generation hydro pumped storage aggregated</th>\n",
              "      <th>...</th>\n",
              "      <th>generation waste</th>\n",
              "      <th>generation wind offshore</th>\n",
              "      <th>generation wind onshore</th>\n",
              "      <th>forecast solar day ahead</th>\n",
              "      <th>forecast wind offshore eday ahead</th>\n",
              "      <th>forecast wind onshore day ahead</th>\n",
              "      <th>total load forecast</th>\n",
              "      <th>total load actual</th>\n",
              "      <th>price day ahead</th>\n",
              "      <th>price actual</th>\n",
              "    </tr>\n",
              "  </thead>\n",
              "  <tbody>\n",
              "    <tr>\n",
              "      <th>count</th>\n",
              "      <td>35045.000000</td>\n",
              "      <td>35046.000000</td>\n",
              "      <td>35046.0</td>\n",
              "      <td>35046.000000</td>\n",
              "      <td>35046.000000</td>\n",
              "      <td>35045.000000</td>\n",
              "      <td>35046.0</td>\n",
              "      <td>35046.0</td>\n",
              "      <td>35046.0</td>\n",
              "      <td>0.0</td>\n",
              "      <td>...</td>\n",
              "      <td>35045.000000</td>\n",
              "      <td>35046.0</td>\n",
              "      <td>35046.000000</td>\n",
              "      <td>35064.000000</td>\n",
              "      <td>0.0</td>\n",
              "      <td>35064.000000</td>\n",
              "      <td>35064.000000</td>\n",
              "      <td>35028.000000</td>\n",
              "      <td>35064.000000</td>\n",
              "      <td>35064.000000</td>\n",
              "    </tr>\n",
              "    <tr>\n",
              "      <th>mean</th>\n",
              "      <td>383.513540</td>\n",
              "      <td>448.059208</td>\n",
              "      <td>0.0</td>\n",
              "      <td>5622.737488</td>\n",
              "      <td>4256.065742</td>\n",
              "      <td>298.319789</td>\n",
              "      <td>0.0</td>\n",
              "      <td>0.0</td>\n",
              "      <td>0.0</td>\n",
              "      <td>NaN</td>\n",
              "      <td>...</td>\n",
              "      <td>269.452133</td>\n",
              "      <td>0.0</td>\n",
              "      <td>5464.479769</td>\n",
              "      <td>1439.066735</td>\n",
              "      <td>NaN</td>\n",
              "      <td>5471.216689</td>\n",
              "      <td>28712.129962</td>\n",
              "      <td>28696.939905</td>\n",
              "      <td>49.874341</td>\n",
              "      <td>57.884023</td>\n",
              "    </tr>\n",
              "    <tr>\n",
              "      <th>std</th>\n",
              "      <td>85.353943</td>\n",
              "      <td>354.568590</td>\n",
              "      <td>0.0</td>\n",
              "      <td>2201.830478</td>\n",
              "      <td>1961.601013</td>\n",
              "      <td>52.520673</td>\n",
              "      <td>0.0</td>\n",
              "      <td>0.0</td>\n",
              "      <td>0.0</td>\n",
              "      <td>NaN</td>\n",
              "      <td>...</td>\n",
              "      <td>50.195536</td>\n",
              "      <td>0.0</td>\n",
              "      <td>3213.691587</td>\n",
              "      <td>1677.703355</td>\n",
              "      <td>NaN</td>\n",
              "      <td>3176.312853</td>\n",
              "      <td>4594.100854</td>\n",
              "      <td>4574.987950</td>\n",
              "      <td>14.618900</td>\n",
              "      <td>14.204083</td>\n",
              "    </tr>\n",
              "    <tr>\n",
              "      <th>min</th>\n",
              "      <td>0.000000</td>\n",
              "      <td>0.000000</td>\n",
              "      <td>0.0</td>\n",
              "      <td>0.000000</td>\n",
              "      <td>0.000000</td>\n",
              "      <td>0.000000</td>\n",
              "      <td>0.0</td>\n",
              "      <td>0.0</td>\n",
              "      <td>0.0</td>\n",
              "      <td>NaN</td>\n",
              "      <td>...</td>\n",
              "      <td>0.000000</td>\n",
              "      <td>0.0</td>\n",
              "      <td>0.000000</td>\n",
              "      <td>0.000000</td>\n",
              "      <td>NaN</td>\n",
              "      <td>237.000000</td>\n",
              "      <td>18105.000000</td>\n",
              "      <td>18041.000000</td>\n",
              "      <td>2.060000</td>\n",
              "      <td>9.330000</td>\n",
              "    </tr>\n",
              "    <tr>\n",
              "      <th>25%</th>\n",
              "      <td>333.000000</td>\n",
              "      <td>0.000000</td>\n",
              "      <td>0.0</td>\n",
              "      <td>4126.000000</td>\n",
              "      <td>2527.000000</td>\n",
              "      <td>263.000000</td>\n",
              "      <td>0.0</td>\n",
              "      <td>0.0</td>\n",
              "      <td>0.0</td>\n",
              "      <td>NaN</td>\n",
              "      <td>...</td>\n",
              "      <td>240.000000</td>\n",
              "      <td>0.0</td>\n",
              "      <td>2933.000000</td>\n",
              "      <td>69.000000</td>\n",
              "      <td>NaN</td>\n",
              "      <td>2979.000000</td>\n",
              "      <td>24793.750000</td>\n",
              "      <td>24807.750000</td>\n",
              "      <td>41.490000</td>\n",
              "      <td>49.347500</td>\n",
              "    </tr>\n",
              "    <tr>\n",
              "      <th>50%</th>\n",
              "      <td>367.000000</td>\n",
              "      <td>509.000000</td>\n",
              "      <td>0.0</td>\n",
              "      <td>4969.000000</td>\n",
              "      <td>4474.000000</td>\n",
              "      <td>300.000000</td>\n",
              "      <td>0.0</td>\n",
              "      <td>0.0</td>\n",
              "      <td>0.0</td>\n",
              "      <td>NaN</td>\n",
              "      <td>...</td>\n",
              "      <td>279.000000</td>\n",
              "      <td>0.0</td>\n",
              "      <td>4849.000000</td>\n",
              "      <td>576.000000</td>\n",
              "      <td>NaN</td>\n",
              "      <td>4855.000000</td>\n",
              "      <td>28906.000000</td>\n",
              "      <td>28901.000000</td>\n",
              "      <td>50.520000</td>\n",
              "      <td>58.020000</td>\n",
              "    </tr>\n",
              "    <tr>\n",
              "      <th>75%</th>\n",
              "      <td>433.000000</td>\n",
              "      <td>757.000000</td>\n",
              "      <td>0.0</td>\n",
              "      <td>6429.000000</td>\n",
              "      <td>5838.750000</td>\n",
              "      <td>330.000000</td>\n",
              "      <td>0.0</td>\n",
              "      <td>0.0</td>\n",
              "      <td>0.0</td>\n",
              "      <td>NaN</td>\n",
              "      <td>...</td>\n",
              "      <td>310.000000</td>\n",
              "      <td>0.0</td>\n",
              "      <td>7398.000000</td>\n",
              "      <td>2636.000000</td>\n",
              "      <td>NaN</td>\n",
              "      <td>7353.000000</td>\n",
              "      <td>32263.250000</td>\n",
              "      <td>32192.000000</td>\n",
              "      <td>60.530000</td>\n",
              "      <td>68.010000</td>\n",
              "    </tr>\n",
              "    <tr>\n",
              "      <th>max</th>\n",
              "      <td>592.000000</td>\n",
              "      <td>999.000000</td>\n",
              "      <td>0.0</td>\n",
              "      <td>20034.000000</td>\n",
              "      <td>8359.000000</td>\n",
              "      <td>449.000000</td>\n",
              "      <td>0.0</td>\n",
              "      <td>0.0</td>\n",
              "      <td>0.0</td>\n",
              "      <td>NaN</td>\n",
              "      <td>...</td>\n",
              "      <td>357.000000</td>\n",
              "      <td>0.0</td>\n",
              "      <td>17436.000000</td>\n",
              "      <td>5836.000000</td>\n",
              "      <td>NaN</td>\n",
              "      <td>17430.000000</td>\n",
              "      <td>41390.000000</td>\n",
              "      <td>41015.000000</td>\n",
              "      <td>101.990000</td>\n",
              "      <td>116.800000</td>\n",
              "    </tr>\n",
              "  </tbody>\n",
              "</table>\n",
              "<p>8 rows × 28 columns</p>\n",
              "</div>"
            ],
            "text/plain": [
              "       generation biomass  generation fossil brown coal/lignite  \\\n",
              "count        35045.000000                          35046.000000   \n",
              "mean           383.513540                            448.059208   \n",
              "std             85.353943                            354.568590   \n",
              "min              0.000000                              0.000000   \n",
              "25%            333.000000                              0.000000   \n",
              "50%            367.000000                            509.000000   \n",
              "75%            433.000000                            757.000000   \n",
              "max            592.000000                            999.000000   \n",
              "\n",
              "       generation fossil coal-derived gas  generation fossil gas  \\\n",
              "count                             35046.0           35046.000000   \n",
              "mean                                  0.0            5622.737488   \n",
              "std                                   0.0            2201.830478   \n",
              "min                                   0.0               0.000000   \n",
              "25%                                   0.0            4126.000000   \n",
              "50%                                   0.0            4969.000000   \n",
              "75%                                   0.0            6429.000000   \n",
              "max                                   0.0           20034.000000   \n",
              "\n",
              "       generation fossil hard coal  generation fossil oil  \\\n",
              "count                 35046.000000           35045.000000   \n",
              "mean                   4256.065742             298.319789   \n",
              "std                    1961.601013              52.520673   \n",
              "min                       0.000000               0.000000   \n",
              "25%                    2527.000000             263.000000   \n",
              "50%                    4474.000000             300.000000   \n",
              "75%                    5838.750000             330.000000   \n",
              "max                    8359.000000             449.000000   \n",
              "\n",
              "       generation fossil oil shale  generation fossil peat  \\\n",
              "count                      35046.0                 35046.0   \n",
              "mean                           0.0                     0.0   \n",
              "std                            0.0                     0.0   \n",
              "min                            0.0                     0.0   \n",
              "25%                            0.0                     0.0   \n",
              "50%                            0.0                     0.0   \n",
              "75%                            0.0                     0.0   \n",
              "max                            0.0                     0.0   \n",
              "\n",
              "       generation geothermal  generation hydro pumped storage aggregated  ...  \\\n",
              "count                35046.0                                         0.0  ...   \n",
              "mean                     0.0                                         NaN  ...   \n",
              "std                      0.0                                         NaN  ...   \n",
              "min                      0.0                                         NaN  ...   \n",
              "25%                      0.0                                         NaN  ...   \n",
              "50%                      0.0                                         NaN  ...   \n",
              "75%                      0.0                                         NaN  ...   \n",
              "max                      0.0                                         NaN  ...   \n",
              "\n",
              "       generation waste  generation wind offshore  generation wind onshore  \\\n",
              "count      35045.000000                   35046.0             35046.000000   \n",
              "mean         269.452133                       0.0              5464.479769   \n",
              "std           50.195536                       0.0              3213.691587   \n",
              "min            0.000000                       0.0                 0.000000   \n",
              "25%          240.000000                       0.0              2933.000000   \n",
              "50%          279.000000                       0.0              4849.000000   \n",
              "75%          310.000000                       0.0              7398.000000   \n",
              "max          357.000000                       0.0             17436.000000   \n",
              "\n",
              "       forecast solar day ahead  forecast wind offshore eday ahead  \\\n",
              "count              35064.000000                                0.0   \n",
              "mean                1439.066735                                NaN   \n",
              "std                 1677.703355                                NaN   \n",
              "min                    0.000000                                NaN   \n",
              "25%                   69.000000                                NaN   \n",
              "50%                  576.000000                                NaN   \n",
              "75%                 2636.000000                                NaN   \n",
              "max                 5836.000000                                NaN   \n",
              "\n",
              "       forecast wind onshore day ahead  total load forecast  \\\n",
              "count                     35064.000000         35064.000000   \n",
              "mean                       5471.216689         28712.129962   \n",
              "std                        3176.312853          4594.100854   \n",
              "min                         237.000000         18105.000000   \n",
              "25%                        2979.000000         24793.750000   \n",
              "50%                        4855.000000         28906.000000   \n",
              "75%                        7353.000000         32263.250000   \n",
              "max                       17430.000000         41390.000000   \n",
              "\n",
              "       total load actual  price day ahead  price actual  \n",
              "count       35028.000000     35064.000000  35064.000000  \n",
              "mean        28696.939905        49.874341     57.884023  \n",
              "std          4574.987950        14.618900     14.204083  \n",
              "min         18041.000000         2.060000      9.330000  \n",
              "25%         24807.750000        41.490000     49.347500  \n",
              "50%         28901.000000        50.520000     58.020000  \n",
              "75%         32192.000000        60.530000     68.010000  \n",
              "max         41015.000000       101.990000    116.800000  \n",
              "\n",
              "[8 rows x 28 columns]"
            ]
          },
          "execution_count": 119,
          "metadata": {},
          "output_type": "execute_result"
        }
      ],
      "source": [
        "df.describe()"
      ]
    },
    {
      "cell_type": "code",
      "execution_count": 120,
      "metadata": {
        "colab": {
          "base_uri": "https://localhost:8080/",
          "height": 455
        },
        "id": "n9WMry5Jmazc",
        "outputId": "1062ee16-06f4-448a-aa53-6b247324021c"
      },
      "outputs": [
        {
          "data": {
            "text/html": [
              "<div>\n",
              "<style scoped>\n",
              "    .dataframe tbody tr th:only-of-type {\n",
              "        vertical-align: middle;\n",
              "    }\n",
              "\n",
              "    .dataframe tbody tr th {\n",
              "        vertical-align: top;\n",
              "    }\n",
              "\n",
              "    .dataframe thead th {\n",
              "        text-align: right;\n",
              "    }\n",
              "</style>\n",
              "<table border=\"1\" class=\"dataframe\">\n",
              "  <thead>\n",
              "    <tr style=\"text-align: right;\">\n",
              "      <th></th>\n",
              "      <th>time</th>\n",
              "      <th>generation biomass</th>\n",
              "      <th>generation fossil brown coal/lignite</th>\n",
              "      <th>generation fossil coal-derived gas</th>\n",
              "      <th>generation fossil gas</th>\n",
              "      <th>generation fossil hard coal</th>\n",
              "      <th>generation fossil oil</th>\n",
              "      <th>generation fossil oil shale</th>\n",
              "      <th>generation fossil peat</th>\n",
              "      <th>generation geothermal</th>\n",
              "      <th>...</th>\n",
              "      <th>generation hydro water reservoir</th>\n",
              "      <th>generation marine</th>\n",
              "      <th>generation nuclear</th>\n",
              "      <th>generation other</th>\n",
              "      <th>generation other renewable</th>\n",
              "      <th>generation solar</th>\n",
              "      <th>generation waste</th>\n",
              "      <th>generation wind offshore</th>\n",
              "      <th>generation wind onshore</th>\n",
              "      <th>total load actual</th>\n",
              "    </tr>\n",
              "  </thead>\n",
              "  <tbody>\n",
              "    <tr>\n",
              "      <th>0</th>\n",
              "      <td>2015-01-01 00:00:00+01:00</td>\n",
              "      <td>447.0</td>\n",
              "      <td>329.0</td>\n",
              "      <td>0.0</td>\n",
              "      <td>4844.0</td>\n",
              "      <td>4821.0</td>\n",
              "      <td>162.0</td>\n",
              "      <td>0.0</td>\n",
              "      <td>0.0</td>\n",
              "      <td>0.0</td>\n",
              "      <td>...</td>\n",
              "      <td>1899.0</td>\n",
              "      <td>0.0</td>\n",
              "      <td>7096.0</td>\n",
              "      <td>43.0</td>\n",
              "      <td>73.0</td>\n",
              "      <td>49.0</td>\n",
              "      <td>196.0</td>\n",
              "      <td>0.0</td>\n",
              "      <td>6378.0</td>\n",
              "      <td>25385.0</td>\n",
              "    </tr>\n",
              "    <tr>\n",
              "      <th>1</th>\n",
              "      <td>2015-01-01 01:00:00+01:00</td>\n",
              "      <td>449.0</td>\n",
              "      <td>328.0</td>\n",
              "      <td>0.0</td>\n",
              "      <td>5196.0</td>\n",
              "      <td>4755.0</td>\n",
              "      <td>158.0</td>\n",
              "      <td>0.0</td>\n",
              "      <td>0.0</td>\n",
              "      <td>0.0</td>\n",
              "      <td>...</td>\n",
              "      <td>1658.0</td>\n",
              "      <td>0.0</td>\n",
              "      <td>7096.0</td>\n",
              "      <td>43.0</td>\n",
              "      <td>71.0</td>\n",
              "      <td>50.0</td>\n",
              "      <td>195.0</td>\n",
              "      <td>0.0</td>\n",
              "      <td>5890.0</td>\n",
              "      <td>24382.0</td>\n",
              "    </tr>\n",
              "    <tr>\n",
              "      <th>2</th>\n",
              "      <td>2015-01-01 02:00:00+01:00</td>\n",
              "      <td>448.0</td>\n",
              "      <td>323.0</td>\n",
              "      <td>0.0</td>\n",
              "      <td>4857.0</td>\n",
              "      <td>4581.0</td>\n",
              "      <td>157.0</td>\n",
              "      <td>0.0</td>\n",
              "      <td>0.0</td>\n",
              "      <td>0.0</td>\n",
              "      <td>...</td>\n",
              "      <td>1371.0</td>\n",
              "      <td>0.0</td>\n",
              "      <td>7099.0</td>\n",
              "      <td>43.0</td>\n",
              "      <td>73.0</td>\n",
              "      <td>50.0</td>\n",
              "      <td>196.0</td>\n",
              "      <td>0.0</td>\n",
              "      <td>5461.0</td>\n",
              "      <td>22734.0</td>\n",
              "    </tr>\n",
              "    <tr>\n",
              "      <th>3</th>\n",
              "      <td>2015-01-01 03:00:00+01:00</td>\n",
              "      <td>438.0</td>\n",
              "      <td>254.0</td>\n",
              "      <td>0.0</td>\n",
              "      <td>4314.0</td>\n",
              "      <td>4131.0</td>\n",
              "      <td>160.0</td>\n",
              "      <td>0.0</td>\n",
              "      <td>0.0</td>\n",
              "      <td>0.0</td>\n",
              "      <td>...</td>\n",
              "      <td>779.0</td>\n",
              "      <td>0.0</td>\n",
              "      <td>7098.0</td>\n",
              "      <td>43.0</td>\n",
              "      <td>75.0</td>\n",
              "      <td>50.0</td>\n",
              "      <td>191.0</td>\n",
              "      <td>0.0</td>\n",
              "      <td>5238.0</td>\n",
              "      <td>21286.0</td>\n",
              "    </tr>\n",
              "    <tr>\n",
              "      <th>4</th>\n",
              "      <td>2015-01-01 04:00:00+01:00</td>\n",
              "      <td>428.0</td>\n",
              "      <td>187.0</td>\n",
              "      <td>0.0</td>\n",
              "      <td>4130.0</td>\n",
              "      <td>3840.0</td>\n",
              "      <td>156.0</td>\n",
              "      <td>0.0</td>\n",
              "      <td>0.0</td>\n",
              "      <td>0.0</td>\n",
              "      <td>...</td>\n",
              "      <td>720.0</td>\n",
              "      <td>0.0</td>\n",
              "      <td>7097.0</td>\n",
              "      <td>43.0</td>\n",
              "      <td>74.0</td>\n",
              "      <td>42.0</td>\n",
              "      <td>189.0</td>\n",
              "      <td>0.0</td>\n",
              "      <td>4935.0</td>\n",
              "      <td>20264.0</td>\n",
              "    </tr>\n",
              "  </tbody>\n",
              "</table>\n",
              "<p>5 rows × 23 columns</p>\n",
              "</div>"
            ],
            "text/plain": [
              "                        time  generation biomass  \\\n",
              "0  2015-01-01 00:00:00+01:00               447.0   \n",
              "1  2015-01-01 01:00:00+01:00               449.0   \n",
              "2  2015-01-01 02:00:00+01:00               448.0   \n",
              "3  2015-01-01 03:00:00+01:00               438.0   \n",
              "4  2015-01-01 04:00:00+01:00               428.0   \n",
              "\n",
              "   generation fossil brown coal/lignite  generation fossil coal-derived gas  \\\n",
              "0                                 329.0                                 0.0   \n",
              "1                                 328.0                                 0.0   \n",
              "2                                 323.0                                 0.0   \n",
              "3                                 254.0                                 0.0   \n",
              "4                                 187.0                                 0.0   \n",
              "\n",
              "   generation fossil gas  generation fossil hard coal  generation fossil oil  \\\n",
              "0                 4844.0                       4821.0                  162.0   \n",
              "1                 5196.0                       4755.0                  158.0   \n",
              "2                 4857.0                       4581.0                  157.0   \n",
              "3                 4314.0                       4131.0                  160.0   \n",
              "4                 4130.0                       3840.0                  156.0   \n",
              "\n",
              "   generation fossil oil shale  generation fossil peat  generation geothermal  \\\n",
              "0                          0.0                     0.0                    0.0   \n",
              "1                          0.0                     0.0                    0.0   \n",
              "2                          0.0                     0.0                    0.0   \n",
              "3                          0.0                     0.0                    0.0   \n",
              "4                          0.0                     0.0                    0.0   \n",
              "\n",
              "   ...  generation hydro water reservoir  generation marine  \\\n",
              "0  ...                            1899.0                0.0   \n",
              "1  ...                            1658.0                0.0   \n",
              "2  ...                            1371.0                0.0   \n",
              "3  ...                             779.0                0.0   \n",
              "4  ...                             720.0                0.0   \n",
              "\n",
              "   generation nuclear  generation other  generation other renewable  \\\n",
              "0              7096.0              43.0                        73.0   \n",
              "1              7096.0              43.0                        71.0   \n",
              "2              7099.0              43.0                        73.0   \n",
              "3              7098.0              43.0                        75.0   \n",
              "4              7097.0              43.0                        74.0   \n",
              "\n",
              "   generation solar  generation waste  generation wind offshore  \\\n",
              "0              49.0             196.0                       0.0   \n",
              "1              50.0             195.0                       0.0   \n",
              "2              50.0             196.0                       0.0   \n",
              "3              50.0             191.0                       0.0   \n",
              "4              42.0             189.0                       0.0   \n",
              "\n",
              "   generation wind onshore  total load actual  \n",
              "0                   6378.0            25385.0  \n",
              "1                   5890.0            24382.0  \n",
              "2                   5461.0            22734.0  \n",
              "3                   5238.0            21286.0  \n",
              "4                   4935.0            20264.0  \n",
              "\n",
              "[5 rows x 23 columns]"
            ]
          },
          "execution_count": 120,
          "metadata": {},
          "output_type": "execute_result"
        }
      ],
      "source": [
        "colunas_usar = []\n",
        "for i in df.columns:\n",
        "    if 'generation' in i:\n",
        "        colunas_usar.append(i)\n",
        "    elif i == 'total load actual':\n",
        "        colunas_usar.append(i)\n",
        "    elif i == 'time':\n",
        "        colunas_usar.append(i)\n",
        "\n",
        "df = df[colunas_usar]\n",
        "df.head()"
      ]
    },
    {
      "cell_type": "code",
      "execution_count": 121,
      "metadata": {
        "colab": {
          "base_uri": "https://localhost:8080/",
          "height": 457
        },
        "id": "Q1P4k7SDmazd",
        "outputId": "b3971486-c4be-4643-9cc5-aef2e372fd56"
      },
      "outputs": [
        {
          "data": {
            "text/html": [
              "<div>\n",
              "<style scoped>\n",
              "    .dataframe tbody tr th:only-of-type {\n",
              "        vertical-align: middle;\n",
              "    }\n",
              "\n",
              "    .dataframe tbody tr th {\n",
              "        vertical-align: top;\n",
              "    }\n",
              "\n",
              "    .dataframe thead th {\n",
              "        text-align: right;\n",
              "    }\n",
              "</style>\n",
              "<table border=\"1\" class=\"dataframe\">\n",
              "  <thead>\n",
              "    <tr style=\"text-align: right;\">\n",
              "      <th></th>\n",
              "      <th>generation biomass</th>\n",
              "      <th>generation fossil brown coal/lignite</th>\n",
              "      <th>generation fossil gas</th>\n",
              "      <th>generation fossil hard coal</th>\n",
              "      <th>generation fossil oil</th>\n",
              "      <th>generation hydro pumped storage consumption</th>\n",
              "      <th>generation hydro run-of-river and poundage</th>\n",
              "      <th>generation hydro water reservoir</th>\n",
              "      <th>generation nuclear</th>\n",
              "      <th>generation other</th>\n",
              "      <th>generation other renewable</th>\n",
              "      <th>generation solar</th>\n",
              "      <th>generation waste</th>\n",
              "      <th>generation wind onshore</th>\n",
              "      <th>total load actual</th>\n",
              "    </tr>\n",
              "    <tr>\n",
              "      <th>time</th>\n",
              "      <th></th>\n",
              "      <th></th>\n",
              "      <th></th>\n",
              "      <th></th>\n",
              "      <th></th>\n",
              "      <th></th>\n",
              "      <th></th>\n",
              "      <th></th>\n",
              "      <th></th>\n",
              "      <th></th>\n",
              "      <th></th>\n",
              "      <th></th>\n",
              "      <th></th>\n",
              "      <th></th>\n",
              "      <th></th>\n",
              "    </tr>\n",
              "  </thead>\n",
              "  <tbody>\n",
              "    <tr>\n",
              "      <th>2015-01-01 00:00:00+01:00</th>\n",
              "      <td>447.0</td>\n",
              "      <td>329.0</td>\n",
              "      <td>4844.0</td>\n",
              "      <td>4821.0</td>\n",
              "      <td>162.0</td>\n",
              "      <td>863.0</td>\n",
              "      <td>1051.0</td>\n",
              "      <td>1899.0</td>\n",
              "      <td>7096.0</td>\n",
              "      <td>43.0</td>\n",
              "      <td>73.0</td>\n",
              "      <td>49.0</td>\n",
              "      <td>196.0</td>\n",
              "      <td>6378.0</td>\n",
              "      <td>25385.0</td>\n",
              "    </tr>\n",
              "    <tr>\n",
              "      <th>2015-01-01 01:00:00+01:00</th>\n",
              "      <td>449.0</td>\n",
              "      <td>328.0</td>\n",
              "      <td>5196.0</td>\n",
              "      <td>4755.0</td>\n",
              "      <td>158.0</td>\n",
              "      <td>920.0</td>\n",
              "      <td>1009.0</td>\n",
              "      <td>1658.0</td>\n",
              "      <td>7096.0</td>\n",
              "      <td>43.0</td>\n",
              "      <td>71.0</td>\n",
              "      <td>50.0</td>\n",
              "      <td>195.0</td>\n",
              "      <td>5890.0</td>\n",
              "      <td>24382.0</td>\n",
              "    </tr>\n",
              "    <tr>\n",
              "      <th>2015-01-01 02:00:00+01:00</th>\n",
              "      <td>448.0</td>\n",
              "      <td>323.0</td>\n",
              "      <td>4857.0</td>\n",
              "      <td>4581.0</td>\n",
              "      <td>157.0</td>\n",
              "      <td>1164.0</td>\n",
              "      <td>973.0</td>\n",
              "      <td>1371.0</td>\n",
              "      <td>7099.0</td>\n",
              "      <td>43.0</td>\n",
              "      <td>73.0</td>\n",
              "      <td>50.0</td>\n",
              "      <td>196.0</td>\n",
              "      <td>5461.0</td>\n",
              "      <td>22734.0</td>\n",
              "    </tr>\n",
              "    <tr>\n",
              "      <th>2015-01-01 03:00:00+01:00</th>\n",
              "      <td>438.0</td>\n",
              "      <td>254.0</td>\n",
              "      <td>4314.0</td>\n",
              "      <td>4131.0</td>\n",
              "      <td>160.0</td>\n",
              "      <td>1503.0</td>\n",
              "      <td>949.0</td>\n",
              "      <td>779.0</td>\n",
              "      <td>7098.0</td>\n",
              "      <td>43.0</td>\n",
              "      <td>75.0</td>\n",
              "      <td>50.0</td>\n",
              "      <td>191.0</td>\n",
              "      <td>5238.0</td>\n",
              "      <td>21286.0</td>\n",
              "    </tr>\n",
              "    <tr>\n",
              "      <th>2015-01-01 04:00:00+01:00</th>\n",
              "      <td>428.0</td>\n",
              "      <td>187.0</td>\n",
              "      <td>4130.0</td>\n",
              "      <td>3840.0</td>\n",
              "      <td>156.0</td>\n",
              "      <td>1826.0</td>\n",
              "      <td>953.0</td>\n",
              "      <td>720.0</td>\n",
              "      <td>7097.0</td>\n",
              "      <td>43.0</td>\n",
              "      <td>74.0</td>\n",
              "      <td>42.0</td>\n",
              "      <td>189.0</td>\n",
              "      <td>4935.0</td>\n",
              "      <td>20264.0</td>\n",
              "    </tr>\n",
              "  </tbody>\n",
              "</table>\n",
              "</div>"
            ],
            "text/plain": [
              "                           generation biomass  \\\n",
              "time                                            \n",
              "2015-01-01 00:00:00+01:00               447.0   \n",
              "2015-01-01 01:00:00+01:00               449.0   \n",
              "2015-01-01 02:00:00+01:00               448.0   \n",
              "2015-01-01 03:00:00+01:00               438.0   \n",
              "2015-01-01 04:00:00+01:00               428.0   \n",
              "\n",
              "                           generation fossil brown coal/lignite  \\\n",
              "time                                                              \n",
              "2015-01-01 00:00:00+01:00                                 329.0   \n",
              "2015-01-01 01:00:00+01:00                                 328.0   \n",
              "2015-01-01 02:00:00+01:00                                 323.0   \n",
              "2015-01-01 03:00:00+01:00                                 254.0   \n",
              "2015-01-01 04:00:00+01:00                                 187.0   \n",
              "\n",
              "                           generation fossil gas  generation fossil hard coal  \\\n",
              "time                                                                            \n",
              "2015-01-01 00:00:00+01:00                 4844.0                       4821.0   \n",
              "2015-01-01 01:00:00+01:00                 5196.0                       4755.0   \n",
              "2015-01-01 02:00:00+01:00                 4857.0                       4581.0   \n",
              "2015-01-01 03:00:00+01:00                 4314.0                       4131.0   \n",
              "2015-01-01 04:00:00+01:00                 4130.0                       3840.0   \n",
              "\n",
              "                           generation fossil oil  \\\n",
              "time                                               \n",
              "2015-01-01 00:00:00+01:00                  162.0   \n",
              "2015-01-01 01:00:00+01:00                  158.0   \n",
              "2015-01-01 02:00:00+01:00                  157.0   \n",
              "2015-01-01 03:00:00+01:00                  160.0   \n",
              "2015-01-01 04:00:00+01:00                  156.0   \n",
              "\n",
              "                           generation hydro pumped storage consumption  \\\n",
              "time                                                                     \n",
              "2015-01-01 00:00:00+01:00                                        863.0   \n",
              "2015-01-01 01:00:00+01:00                                        920.0   \n",
              "2015-01-01 02:00:00+01:00                                       1164.0   \n",
              "2015-01-01 03:00:00+01:00                                       1503.0   \n",
              "2015-01-01 04:00:00+01:00                                       1826.0   \n",
              "\n",
              "                           generation hydro run-of-river and poundage  \\\n",
              "time                                                                    \n",
              "2015-01-01 00:00:00+01:00                                      1051.0   \n",
              "2015-01-01 01:00:00+01:00                                      1009.0   \n",
              "2015-01-01 02:00:00+01:00                                       973.0   \n",
              "2015-01-01 03:00:00+01:00                                       949.0   \n",
              "2015-01-01 04:00:00+01:00                                       953.0   \n",
              "\n",
              "                           generation hydro water reservoir  \\\n",
              "time                                                          \n",
              "2015-01-01 00:00:00+01:00                            1899.0   \n",
              "2015-01-01 01:00:00+01:00                            1658.0   \n",
              "2015-01-01 02:00:00+01:00                            1371.0   \n",
              "2015-01-01 03:00:00+01:00                             779.0   \n",
              "2015-01-01 04:00:00+01:00                             720.0   \n",
              "\n",
              "                           generation nuclear  generation other  \\\n",
              "time                                                              \n",
              "2015-01-01 00:00:00+01:00              7096.0              43.0   \n",
              "2015-01-01 01:00:00+01:00              7096.0              43.0   \n",
              "2015-01-01 02:00:00+01:00              7099.0              43.0   \n",
              "2015-01-01 03:00:00+01:00              7098.0              43.0   \n",
              "2015-01-01 04:00:00+01:00              7097.0              43.0   \n",
              "\n",
              "                           generation other renewable  generation solar  \\\n",
              "time                                                                      \n",
              "2015-01-01 00:00:00+01:00                        73.0              49.0   \n",
              "2015-01-01 01:00:00+01:00                        71.0              50.0   \n",
              "2015-01-01 02:00:00+01:00                        73.0              50.0   \n",
              "2015-01-01 03:00:00+01:00                        75.0              50.0   \n",
              "2015-01-01 04:00:00+01:00                        74.0              42.0   \n",
              "\n",
              "                           generation waste  generation wind onshore  \\\n",
              "time                                                                   \n",
              "2015-01-01 00:00:00+01:00             196.0                   6378.0   \n",
              "2015-01-01 01:00:00+01:00             195.0                   5890.0   \n",
              "2015-01-01 02:00:00+01:00             196.0                   5461.0   \n",
              "2015-01-01 03:00:00+01:00             191.0                   5238.0   \n",
              "2015-01-01 04:00:00+01:00             189.0                   4935.0   \n",
              "\n",
              "                           total load actual  \n",
              "time                                          \n",
              "2015-01-01 00:00:00+01:00            25385.0  \n",
              "2015-01-01 01:00:00+01:00            24382.0  \n",
              "2015-01-01 02:00:00+01:00            22734.0  \n",
              "2015-01-01 03:00:00+01:00            21286.0  \n",
              "2015-01-01 04:00:00+01:00            20264.0  "
            ]
          },
          "execution_count": 121,
          "metadata": {},
          "output_type": "execute_result"
        }
      ],
      "source": [
        "info = df.describe().T\n",
        "colunas_zeradas = list(info.loc[((info['min'] == 0) & (info['max'] == 0)) | (info['min'].isna()) & (info['max'].isna())].index)\n",
        "\n",
        "df = df.drop(colunas_zeradas, axis = 1)\n",
        "df.set_index('time', inplace = True)\n",
        "df.head()"
      ]
    },
    {
      "cell_type": "code",
      "execution_count": 122,
      "metadata": {
        "colab": {
          "base_uri": "https://localhost:8080/",
          "height": 298
        },
        "id": "V-rTVw54mazd",
        "outputId": "ed574caf-1b3c-4998-c5a0-7aefc38ed427"
      },
      "outputs": [
        {
          "data": {
            "text/plain": [
              "Text(0.5, 0, '')"
            ]
          },
          "execution_count": 122,
          "metadata": {},
          "output_type": "execute_result"
        },
        {
          "data": {
            "image/png": "[encoded data removed]",
            "text/plain": [
              "<Figure size 432x288 with 1 Axes>"
            ]
          },
          "metadata": {
            "needs_background": "light"
          },
          "output_type": "display_data"
        }
      ],
      "source": [
        "correlations = df.corr()['total load actual'].reset_index()[:-1]\n",
        "ax = sns.barplot(x = 'total load actual', y = 'index', data = correlations.sort_values(ascending= False, by = 'total load actual'))\n",
        "ax.set_title('Correlation with total load actual')\n",
        "ax.set_ylabel('Field')\n",
        "ax.set_xlabel('')"
      ]
    },
    {
      "cell_type": "code",
      "execution_count": 123,
      "metadata": {
        "colab": {
          "base_uri": "https://localhost:8080/",
          "height": 433
        },
        "id": "uvTLyQBmmazd",
        "outputId": "12ff67f0-1532-4b2a-fae1-e574d962a3ec"
      },
      "outputs": [
        {
          "data": {
            "text/html": [
              "<div>\n",
              "<style scoped>\n",
              "    .dataframe tbody tr th:only-of-type {\n",
              "        vertical-align: middle;\n",
              "    }\n",
              "\n",
              "    .dataframe tbody tr th {\n",
              "        vertical-align: top;\n",
              "    }\n",
              "\n",
              "    .dataframe thead th {\n",
              "        text-align: right;\n",
              "    }\n",
              "</style>\n",
              "<table border=\"1\" class=\"dataframe\">\n",
              "  <thead>\n",
              "    <tr style=\"text-align: right;\">\n",
              "      <th></th>\n",
              "      <th>generation biomass</th>\n",
              "      <th>generation fossil brown coal/lignite</th>\n",
              "      <th>generation fossil gas</th>\n",
              "      <th>generation fossil hard coal</th>\n",
              "      <th>generation fossil oil</th>\n",
              "      <th>generation hydro pumped storage consumption</th>\n",
              "      <th>generation hydro run-of-river and poundage</th>\n",
              "      <th>generation hydro water reservoir</th>\n",
              "      <th>generation nuclear</th>\n",
              "      <th>generation other</th>\n",
              "      <th>generation other renewable</th>\n",
              "      <th>generation solar</th>\n",
              "      <th>generation waste</th>\n",
              "      <th>generation wind onshore</th>\n",
              "      <th>total load actual</th>\n",
              "    </tr>\n",
              "  </thead>\n",
              "  <tbody>\n",
              "    <tr>\n",
              "      <th>count</th>\n",
              "      <td>35045.000000</td>\n",
              "      <td>35046.000000</td>\n",
              "      <td>35046.000000</td>\n",
              "      <td>35046.000000</td>\n",
              "      <td>35045.000000</td>\n",
              "      <td>35045.000000</td>\n",
              "      <td>35045.000000</td>\n",
              "      <td>35046.000000</td>\n",
              "      <td>35047.000000</td>\n",
              "      <td>35046.000000</td>\n",
              "      <td>35046.000000</td>\n",
              "      <td>35046.000000</td>\n",
              "      <td>35045.000000</td>\n",
              "      <td>35046.000000</td>\n",
              "      <td>35028.000000</td>\n",
              "    </tr>\n",
              "    <tr>\n",
              "      <th>mean</th>\n",
              "      <td>383.513540</td>\n",
              "      <td>448.059208</td>\n",
              "      <td>5622.737488</td>\n",
              "      <td>4256.065742</td>\n",
              "      <td>298.319789</td>\n",
              "      <td>475.577343</td>\n",
              "      <td>972.116108</td>\n",
              "      <td>2605.114735</td>\n",
              "      <td>6263.907039</td>\n",
              "      <td>60.228585</td>\n",
              "      <td>85.639702</td>\n",
              "      <td>1432.665925</td>\n",
              "      <td>269.452133</td>\n",
              "      <td>5464.479769</td>\n",
              "      <td>28696.939905</td>\n",
              "    </tr>\n",
              "    <tr>\n",
              "      <th>std</th>\n",
              "      <td>85.353943</td>\n",
              "      <td>354.568590</td>\n",
              "      <td>2201.830478</td>\n",
              "      <td>1961.601013</td>\n",
              "      <td>52.520673</td>\n",
              "      <td>792.406614</td>\n",
              "      <td>400.777536</td>\n",
              "      <td>1835.199745</td>\n",
              "      <td>839.667958</td>\n",
              "      <td>20.238381</td>\n",
              "      <td>14.077554</td>\n",
              "      <td>1680.119887</td>\n",
              "      <td>50.195536</td>\n",
              "      <td>3213.691587</td>\n",
              "      <td>4574.987950</td>\n",
              "    </tr>\n",
              "    <tr>\n",
              "      <th>min</th>\n",
              "      <td>0.000000</td>\n",
              "      <td>0.000000</td>\n",
              "      <td>0.000000</td>\n",
              "      <td>0.000000</td>\n",
              "      <td>0.000000</td>\n",
              "      <td>0.000000</td>\n",
              "      <td>0.000000</td>\n",
              "      <td>0.000000</td>\n",
              "      <td>0.000000</td>\n",
              "      <td>0.000000</td>\n",
              "      <td>0.000000</td>\n",
              "      <td>0.000000</td>\n",
              "      <td>0.000000</td>\n",
              "      <td>0.000000</td>\n",
              "      <td>18041.000000</td>\n",
              "    </tr>\n",
              "    <tr>\n",
              "      <th>25%</th>\n",
              "      <td>333.000000</td>\n",
              "      <td>0.000000</td>\n",
              "      <td>4126.000000</td>\n",
              "      <td>2527.000000</td>\n",
              "      <td>263.000000</td>\n",
              "      <td>0.000000</td>\n",
              "      <td>637.000000</td>\n",
              "      <td>1077.250000</td>\n",
              "      <td>5760.000000</td>\n",
              "      <td>53.000000</td>\n",
              "      <td>73.000000</td>\n",
              "      <td>71.000000</td>\n",
              "      <td>240.000000</td>\n",
              "      <td>2933.000000</td>\n",
              "      <td>24807.750000</td>\n",
              "    </tr>\n",
              "    <tr>\n",
              "      <th>50%</th>\n",
              "      <td>367.000000</td>\n",
              "      <td>509.000000</td>\n",
              "      <td>4969.000000</td>\n",
              "      <td>4474.000000</td>\n",
              "      <td>300.000000</td>\n",
              "      <td>68.000000</td>\n",
              "      <td>906.000000</td>\n",
              "      <td>2164.000000</td>\n",
              "      <td>6566.000000</td>\n",
              "      <td>57.000000</td>\n",
              "      <td>88.000000</td>\n",
              "      <td>616.000000</td>\n",
              "      <td>279.000000</td>\n",
              "      <td>4849.000000</td>\n",
              "      <td>28901.000000</td>\n",
              "    </tr>\n",
              "    <tr>\n",
              "      <th>75%</th>\n",
              "      <td>433.000000</td>\n",
              "      <td>757.000000</td>\n",
              "      <td>6429.000000</td>\n",
              "      <td>5838.750000</td>\n",
              "      <td>330.000000</td>\n",
              "      <td>616.000000</td>\n",
              "      <td>1250.000000</td>\n",
              "      <td>3757.000000</td>\n",
              "      <td>7025.000000</td>\n",
              "      <td>80.000000</td>\n",
              "      <td>97.000000</td>\n",
              "      <td>2578.000000</td>\n",
              "      <td>310.000000</td>\n",
              "      <td>7398.000000</td>\n",
              "      <td>32192.000000</td>\n",
              "    </tr>\n",
              "    <tr>\n",
              "      <th>max</th>\n",
              "      <td>592.000000</td>\n",
              "      <td>999.000000</td>\n",
              "      <td>20034.000000</td>\n",
              "      <td>8359.000000</td>\n",
              "      <td>449.000000</td>\n",
              "      <td>4523.000000</td>\n",
              "      <td>2000.000000</td>\n",
              "      <td>9728.000000</td>\n",
              "      <td>7117.000000</td>\n",
              "      <td>106.000000</td>\n",
              "      <td>119.000000</td>\n",
              "      <td>5792.000000</td>\n",
              "      <td>357.000000</td>\n",
              "      <td>17436.000000</td>\n",
              "      <td>41015.000000</td>\n",
              "    </tr>\n",
              "  </tbody>\n",
              "</table>\n",
              "</div>"
            ],
            "text/plain": [
              "       generation biomass  generation fossil brown coal/lignite  \\\n",
              "count        35045.000000                          35046.000000   \n",
              "mean           383.513540                            448.059208   \n",
              "std             85.353943                            354.568590   \n",
              "min              0.000000                              0.000000   \n",
              "25%            333.000000                              0.000000   \n",
              "50%            367.000000                            509.000000   \n",
              "75%            433.000000                            757.000000   \n",
              "max            592.000000                            999.000000   \n",
              "\n",
              "       generation fossil gas  generation fossil hard coal  \\\n",
              "count           35046.000000                 35046.000000   \n",
              "mean             5622.737488                  4256.065742   \n",
              "std              2201.830478                  1961.601013   \n",
              "min                 0.000000                     0.000000   \n",
              "25%              4126.000000                  2527.000000   \n",
              "50%              4969.000000                  4474.000000   \n",
              "75%              6429.000000                  5838.750000   \n",
              "max             20034.000000                  8359.000000   \n",
              "\n",
              "       generation fossil oil  generation hydro pumped storage consumption  \\\n",
              "count           35045.000000                                 35045.000000   \n",
              "mean              298.319789                                   475.577343   \n",
              "std                52.520673                                   792.406614   \n",
              "min                 0.000000                                     0.000000   \n",
              "25%               263.000000                                     0.000000   \n",
              "50%               300.000000                                    68.000000   \n",
              "75%               330.000000                                   616.000000   \n",
              "max               449.000000                                  4523.000000   \n",
              "\n",
              "       generation hydro run-of-river and poundage  \\\n",
              "count                                35045.000000   \n",
              "mean                                   972.116108   \n",
              "std                                    400.777536   \n",
              "min                                      0.000000   \n",
              "25%                                    637.000000   \n",
              "50%                                    906.000000   \n",
              "75%                                   1250.000000   \n",
              "max                                   2000.000000   \n",
              "\n",
              "       generation hydro water reservoir  generation nuclear  generation other  \\\n",
              "count                      35046.000000        35047.000000      35046.000000   \n",
              "mean                        2605.114735         6263.907039         60.228585   \n",
              "std                         1835.199745          839.667958         20.238381   \n",
              "min                            0.000000            0.000000          0.000000   \n",
              "25%                         1077.250000         5760.000000         53.000000   \n",
              "50%                         2164.000000         6566.000000         57.000000   \n",
              "75%                         3757.000000         7025.000000         80.000000   \n",
              "max                         9728.000000         7117.000000        106.000000   \n",
              "\n",
              "       generation other renewable  generation solar  generation waste  \\\n",
              "count                35046.000000      35046.000000      35045.000000   \n",
              "mean                    85.639702       1432.665925        269.452133   \n",
              "std                     14.077554       1680.119887         50.195536   \n",
              "min                      0.000000          0.000000          0.000000   \n",
              "25%                     73.000000         71.000000        240.000000   \n",
              "50%                     88.000000        616.000000        279.000000   \n",
              "75%                     97.000000       2578.000000        310.000000   \n",
              "max                    119.000000       5792.000000        357.000000   \n",
              "\n",
              "       generation wind onshore  total load actual  \n",
              "count             35046.000000       35028.000000  \n",
              "mean               5464.479769       28696.939905  \n",
              "std                3213.691587        4574.987950  \n",
              "min                   0.000000       18041.000000  \n",
              "25%                2933.000000       24807.750000  \n",
              "50%                4849.000000       28901.000000  \n",
              "75%                7398.000000       32192.000000  \n",
              "max               17436.000000       41015.000000  "
            ]
          },
          "execution_count": 123,
          "metadata": {},
          "output_type": "execute_result"
        }
      ],
      "source": [
        "df.describe()"
      ]
    },
    {
      "cell_type": "code",
      "execution_count": 124,
      "metadata": {
        "colab": {
          "base_uri": "https://localhost:8080/",
          "height": 467
        },
        "id": "bZRpUb6tmazd",
        "outputId": "b44a9dec-954e-4dd3-ef21-5f2d796bb6d1"
      },
      "outputs": [
        {
          "data": {
            "text/plain": [
              "<AxesSubplot: xlabel='time', ylabel='total load actual'>"
            ]
          },
          "execution_count": 124,
          "metadata": {},
          "output_type": "execute_result"
        },
        {
          "data": {
            "image/png": "[encoded data removed]",
            "text/plain": [
              "<Figure size 432x288 with 1 Axes>"
            ]
          },
          "metadata": {
            "needs_background": "light"
          },
          "output_type": "display_data"
        }
      ],
      "source": [
        "sns.lineplot(x = 'time', y = 'total load actual', data = df.iloc[:1000])"
      ]
    },
    {
      "cell_type": "code",
      "execution_count": 125,
      "metadata": {
        "colab": {
          "base_uri": "https://localhost:8080/",
          "height": 426
        },
        "id": "MmbhW-iKmazd",
        "outputId": "88081f17-1b94-4c62-f6d5-6796473545bd"
      },
      "outputs": [
        {
          "data": {
            "text/html": [
              "<div>\n",
              "<style scoped>\n",
              "    .dataframe tbody tr th:only-of-type {\n",
              "        vertical-align: middle;\n",
              "    }\n",
              "\n",
              "    .dataframe tbody tr th {\n",
              "        vertical-align: top;\n",
              "    }\n",
              "\n",
              "    .dataframe thead th {\n",
              "        text-align: right;\n",
              "    }\n",
              "</style>\n",
              "<table border=\"1\" class=\"dataframe\">\n",
              "  <thead>\n",
              "    <tr style=\"text-align: right;\">\n",
              "      <th></th>\n",
              "      <th>time</th>\n",
              "      <th>generation biomass</th>\n",
              "      <th>generation fossil brown coal/lignite</th>\n",
              "      <th>generation fossil gas</th>\n",
              "      <th>generation fossil hard coal</th>\n",
              "      <th>generation fossil oil</th>\n",
              "      <th>generation hydro pumped storage consumption</th>\n",
              "      <th>generation hydro run-of-river and poundage</th>\n",
              "      <th>generation hydro water reservoir</th>\n",
              "      <th>generation nuclear</th>\n",
              "      <th>generation other</th>\n",
              "      <th>generation other renewable</th>\n",
              "      <th>generation solar</th>\n",
              "      <th>generation waste</th>\n",
              "      <th>generation wind onshore</th>\n",
              "      <th>total load actual</th>\n",
              "    </tr>\n",
              "  </thead>\n",
              "  <tbody>\n",
              "    <tr>\n",
              "      <th>0</th>\n",
              "      <td>2015-01-01 00:00:00+01:00</td>\n",
              "      <td>447.0</td>\n",
              "      <td>329.0</td>\n",
              "      <td>4844.0</td>\n",
              "      <td>4821.0</td>\n",
              "      <td>162.0</td>\n",
              "      <td>863.0</td>\n",
              "      <td>1051.0</td>\n",
              "      <td>1899.0</td>\n",
              "      <td>7096.0</td>\n",
              "      <td>43.0</td>\n",
              "      <td>73.0</td>\n",
              "      <td>49.0</td>\n",
              "      <td>196.0</td>\n",
              "      <td>6378.0</td>\n",
              "      <td>25385.0</td>\n",
              "    </tr>\n",
              "    <tr>\n",
              "      <th>1</th>\n",
              "      <td>2015-01-01 01:00:00+01:00</td>\n",
              "      <td>449.0</td>\n",
              "      <td>328.0</td>\n",
              "      <td>5196.0</td>\n",
              "      <td>4755.0</td>\n",
              "      <td>158.0</td>\n",
              "      <td>920.0</td>\n",
              "      <td>1009.0</td>\n",
              "      <td>1658.0</td>\n",
              "      <td>7096.0</td>\n",
              "      <td>43.0</td>\n",
              "      <td>71.0</td>\n",
              "      <td>50.0</td>\n",
              "      <td>195.0</td>\n",
              "      <td>5890.0</td>\n",
              "      <td>24382.0</td>\n",
              "    </tr>\n",
              "    <tr>\n",
              "      <th>2</th>\n",
              "      <td>2015-01-01 02:00:00+01:00</td>\n",
              "      <td>448.0</td>\n",
              "      <td>323.0</td>\n",
              "      <td>4857.0</td>\n",
              "      <td>4581.0</td>\n",
              "      <td>157.0</td>\n",
              "      <td>1164.0</td>\n",
              "      <td>973.0</td>\n",
              "      <td>1371.0</td>\n",
              "      <td>7099.0</td>\n",
              "      <td>43.0</td>\n",
              "      <td>73.0</td>\n",
              "      <td>50.0</td>\n",
              "      <td>196.0</td>\n",
              "      <td>5461.0</td>\n",
              "      <td>22734.0</td>\n",
              "    </tr>\n",
              "    <tr>\n",
              "      <th>3</th>\n",
              "      <td>2015-01-01 03:00:00+01:00</td>\n",
              "      <td>438.0</td>\n",
              "      <td>254.0</td>\n",
              "      <td>4314.0</td>\n",
              "      <td>4131.0</td>\n",
              "      <td>160.0</td>\n",
              "      <td>1503.0</td>\n",
              "      <td>949.0</td>\n",
              "      <td>779.0</td>\n",
              "      <td>7098.0</td>\n",
              "      <td>43.0</td>\n",
              "      <td>75.0</td>\n",
              "      <td>50.0</td>\n",
              "      <td>191.0</td>\n",
              "      <td>5238.0</td>\n",
              "      <td>21286.0</td>\n",
              "    </tr>\n",
              "    <tr>\n",
              "      <th>4</th>\n",
              "      <td>2015-01-01 04:00:00+01:00</td>\n",
              "      <td>428.0</td>\n",
              "      <td>187.0</td>\n",
              "      <td>4130.0</td>\n",
              "      <td>3840.0</td>\n",
              "      <td>156.0</td>\n",
              "      <td>1826.0</td>\n",
              "      <td>953.0</td>\n",
              "      <td>720.0</td>\n",
              "      <td>7097.0</td>\n",
              "      <td>43.0</td>\n",
              "      <td>74.0</td>\n",
              "      <td>42.0</td>\n",
              "      <td>189.0</td>\n",
              "      <td>4935.0</td>\n",
              "      <td>20264.0</td>\n",
              "    </tr>\n",
              "  </tbody>\n",
              "</table>\n",
              "</div>"
            ],
            "text/plain": [
              "                        time  generation biomass  \\\n",
              "0  2015-01-01 00:00:00+01:00               447.0   \n",
              "1  2015-01-01 01:00:00+01:00               449.0   \n",
              "2  2015-01-01 02:00:00+01:00               448.0   \n",
              "3  2015-01-01 03:00:00+01:00               438.0   \n",
              "4  2015-01-01 04:00:00+01:00               428.0   \n",
              "\n",
              "   generation fossil brown coal/lignite  generation fossil gas  \\\n",
              "0                                 329.0                 4844.0   \n",
              "1                                 328.0                 5196.0   \n",
              "2                                 323.0                 4857.0   \n",
              "3                                 254.0                 4314.0   \n",
              "4                                 187.0                 4130.0   \n",
              "\n",
              "   generation fossil hard coal  generation fossil oil  \\\n",
              "0                       4821.0                  162.0   \n",
              "1                       4755.0                  158.0   \n",
              "2                       4581.0                  157.0   \n",
              "3                       4131.0                  160.0   \n",
              "4                       3840.0                  156.0   \n",
              "\n",
              "   generation hydro pumped storage consumption  \\\n",
              "0                                        863.0   \n",
              "1                                        920.0   \n",
              "2                                       1164.0   \n",
              "3                                       1503.0   \n",
              "4                                       1826.0   \n",
              "\n",
              "   generation hydro run-of-river and poundage  \\\n",
              "0                                      1051.0   \n",
              "1                                      1009.0   \n",
              "2                                       973.0   \n",
              "3                                       949.0   \n",
              "4                                       953.0   \n",
              "\n",
              "   generation hydro water reservoir  generation nuclear  generation other  \\\n",
              "0                            1899.0              7096.0              43.0   \n",
              "1                            1658.0              7096.0              43.0   \n",
              "2                            1371.0              7099.0              43.0   \n",
              "3                             779.0              7098.0              43.0   \n",
              "4                             720.0              7097.0              43.0   \n",
              "\n",
              "   generation other renewable  generation solar  generation waste  \\\n",
              "0                        73.0              49.0             196.0   \n",
              "1                        71.0              50.0             195.0   \n",
              "2                        73.0              50.0             196.0   \n",
              "3                        75.0              50.0             191.0   \n",
              "4                        74.0              42.0             189.0   \n",
              "\n",
              "   generation wind onshore  total load actual  \n",
              "0                   6378.0            25385.0  \n",
              "1                   5890.0            24382.0  \n",
              "2                   5461.0            22734.0  \n",
              "3                   5238.0            21286.0  \n",
              "4                   4935.0            20264.0  "
            ]
          },
          "execution_count": 125,
          "metadata": {},
          "output_type": "execute_result"
        }
      ],
      "source": [
        "df.reset_index(inplace = True)\n",
        "df.head()"
      ]
    },
    {
      "cell_type": "markdown",
      "metadata": {
        "id": "NzqLen3qmaze"
      },
      "source": [
        "## Creating time series columns"
      ]
    },
    {
      "cell_type": "code",
      "execution_count": 126,
      "metadata": {
        "id": "1Fe4n2ERmazf"
      },
      "outputs": [],
      "source": [
        "df['time'] = pd.to_datetime(df['time'], utc = True)\n",
        "\n",
        "\n",
        "df['month'] = df['time'].dt.month\n",
        "df['year'] = df['time'].dt.year\n",
        "df['dayofweek'] = df['time'].dt.dayofweek\n",
        "df['hour'] = df['time'].dt.hour\n",
        "df['day'] = df['time'].dt.day"
      ]
    },
    {
      "cell_type": "code",
      "execution_count": 127,
      "metadata": {
        "colab": {
          "base_uri": "https://localhost:8080/",
          "height": 455
        },
        "id": "uVcl3HYvmazf",
        "outputId": "6fa888be-ad61-477f-854b-c09f382f7715"
      },
      "outputs": [
        {
          "data": {
            "text/html": [
              "<div>\n",
              "<style scoped>\n",
              "    .dataframe tbody tr th:only-of-type {\n",
              "        vertical-align: middle;\n",
              "    }\n",
              "\n",
              "    .dataframe tbody tr th {\n",
              "        vertical-align: top;\n",
              "    }\n",
              "\n",
              "    .dataframe thead th {\n",
              "        text-align: right;\n",
              "    }\n",
              "</style>\n",
              "<table border=\"1\" class=\"dataframe\">\n",
              "  <thead>\n",
              "    <tr style=\"text-align: right;\">\n",
              "      <th></th>\n",
              "      <th>time</th>\n",
              "      <th>generation biomass</th>\n",
              "      <th>generation fossil brown coal/lignite</th>\n",
              "      <th>generation fossil gas</th>\n",
              "      <th>generation fossil hard coal</th>\n",
              "      <th>generation fossil oil</th>\n",
              "      <th>generation hydro pumped storage consumption</th>\n",
              "      <th>generation hydro run-of-river and poundage</th>\n",
              "      <th>generation hydro water reservoir</th>\n",
              "      <th>generation nuclear</th>\n",
              "      <th>...</th>\n",
              "      <th>generation other renewable</th>\n",
              "      <th>generation solar</th>\n",
              "      <th>generation waste</th>\n",
              "      <th>generation wind onshore</th>\n",
              "      <th>total load actual</th>\n",
              "      <th>month</th>\n",
              "      <th>year</th>\n",
              "      <th>dayofweek</th>\n",
              "      <th>hour</th>\n",
              "      <th>day</th>\n",
              "    </tr>\n",
              "  </thead>\n",
              "  <tbody>\n",
              "    <tr>\n",
              "      <th>0</th>\n",
              "      <td>2014-12-31 23:00:00+00:00</td>\n",
              "      <td>447.0</td>\n",
              "      <td>329.0</td>\n",
              "      <td>4844.0</td>\n",
              "      <td>4821.0</td>\n",
              "      <td>162.0</td>\n",
              "      <td>863.0</td>\n",
              "      <td>1051.0</td>\n",
              "      <td>1899.0</td>\n",
              "      <td>7096.0</td>\n",
              "      <td>...</td>\n",
              "      <td>73.0</td>\n",
              "      <td>49.0</td>\n",
              "      <td>196.0</td>\n",
              "      <td>6378.0</td>\n",
              "      <td>25385.0</td>\n",
              "      <td>12</td>\n",
              "      <td>2014</td>\n",
              "      <td>2</td>\n",
              "      <td>23</td>\n",
              "      <td>31</td>\n",
              "    </tr>\n",
              "    <tr>\n",
              "      <th>1</th>\n",
              "      <td>2015-01-01 00:00:00+00:00</td>\n",
              "      <td>449.0</td>\n",
              "      <td>328.0</td>\n",
              "      <td>5196.0</td>\n",
              "      <td>4755.0</td>\n",
              "      <td>158.0</td>\n",
              "      <td>920.0</td>\n",
              "      <td>1009.0</td>\n",
              "      <td>1658.0</td>\n",
              "      <td>7096.0</td>\n",
              "      <td>...</td>\n",
              "      <td>71.0</td>\n",
              "      <td>50.0</td>\n",
              "      <td>195.0</td>\n",
              "      <td>5890.0</td>\n",
              "      <td>24382.0</td>\n",
              "      <td>1</td>\n",
              "      <td>2015</td>\n",
              "      <td>3</td>\n",
              "      <td>0</td>\n",
              "      <td>1</td>\n",
              "    </tr>\n",
              "    <tr>\n",
              "      <th>2</th>\n",
              "      <td>2015-01-01 01:00:00+00:00</td>\n",
              "      <td>448.0</td>\n",
              "      <td>323.0</td>\n",
              "      <td>4857.0</td>\n",
              "      <td>4581.0</td>\n",
              "      <td>157.0</td>\n",
              "      <td>1164.0</td>\n",
              "      <td>973.0</td>\n",
              "      <td>1371.0</td>\n",
              "      <td>7099.0</td>\n",
              "      <td>...</td>\n",
              "      <td>73.0</td>\n",
              "      <td>50.0</td>\n",
              "      <td>196.0</td>\n",
              "      <td>5461.0</td>\n",
              "      <td>22734.0</td>\n",
              "      <td>1</td>\n",
              "      <td>2015</td>\n",
              "      <td>3</td>\n",
              "      <td>1</td>\n",
              "      <td>1</td>\n",
              "    </tr>\n",
              "    <tr>\n",
              "      <th>3</th>\n",
              "      <td>2015-01-01 02:00:00+00:00</td>\n",
              "      <td>438.0</td>\n",
              "      <td>254.0</td>\n",
              "      <td>4314.0</td>\n",
              "      <td>4131.0</td>\n",
              "      <td>160.0</td>\n",
              "      <td>1503.0</td>\n",
              "      <td>949.0</td>\n",
              "      <td>779.0</td>\n",
              "      <td>7098.0</td>\n",
              "      <td>...</td>\n",
              "      <td>75.0</td>\n",
              "      <td>50.0</td>\n",
              "      <td>191.0</td>\n",
              "      <td>5238.0</td>\n",
              "      <td>21286.0</td>\n",
              "      <td>1</td>\n",
              "      <td>2015</td>\n",
              "      <td>3</td>\n",
              "      <td>2</td>\n",
              "      <td>1</td>\n",
              "    </tr>\n",
              "    <tr>\n",
              "      <th>4</th>\n",
              "      <td>2015-01-01 03:00:00+00:00</td>\n",
              "      <td>428.0</td>\n",
              "      <td>187.0</td>\n",
              "      <td>4130.0</td>\n",
              "      <td>3840.0</td>\n",
              "      <td>156.0</td>\n",
              "      <td>1826.0</td>\n",
              "      <td>953.0</td>\n",
              "      <td>720.0</td>\n",
              "      <td>7097.0</td>\n",
              "      <td>...</td>\n",
              "      <td>74.0</td>\n",
              "      <td>42.0</td>\n",
              "      <td>189.0</td>\n",
              "      <td>4935.0</td>\n",
              "      <td>20264.0</td>\n",
              "      <td>1</td>\n",
              "      <td>2015</td>\n",
              "      <td>3</td>\n",
              "      <td>3</td>\n",
              "      <td>1</td>\n",
              "    </tr>\n",
              "  </tbody>\n",
              "</table>\n",
              "<p>5 rows × 21 columns</p>\n",
              "</div>"
            ],
            "text/plain": [
              "                       time  generation biomass  \\\n",
              "0 2014-12-31 23:00:00+00:00               447.0   \n",
              "1 2015-01-01 00:00:00+00:00               449.0   \n",
              "2 2015-01-01 01:00:00+00:00               448.0   \n",
              "3 2015-01-01 02:00:00+00:00               438.0   \n",
              "4 2015-01-01 03:00:00+00:00               428.0   \n",
              "\n",
              "   generation fossil brown coal/lignite  generation fossil gas  \\\n",
              "0                                 329.0                 4844.0   \n",
              "1                                 328.0                 5196.0   \n",
              "2                                 323.0                 4857.0   \n",
              "3                                 254.0                 4314.0   \n",
              "4                                 187.0                 4130.0   \n",
              "\n",
              "   generation fossil hard coal  generation fossil oil  \\\n",
              "0                       4821.0                  162.0   \n",
              "1                       4755.0                  158.0   \n",
              "2                       4581.0                  157.0   \n",
              "3                       4131.0                  160.0   \n",
              "4                       3840.0                  156.0   \n",
              "\n",
              "   generation hydro pumped storage consumption  \\\n",
              "0                                        863.0   \n",
              "1                                        920.0   \n",
              "2                                       1164.0   \n",
              "3                                       1503.0   \n",
              "4                                       1826.0   \n",
              "\n",
              "   generation hydro run-of-river and poundage  \\\n",
              "0                                      1051.0   \n",
              "1                                      1009.0   \n",
              "2                                       973.0   \n",
              "3                                       949.0   \n",
              "4                                       953.0   \n",
              "\n",
              "   generation hydro water reservoir  generation nuclear  ...  \\\n",
              "0                            1899.0              7096.0  ...   \n",
              "1                            1658.0              7096.0  ...   \n",
              "2                            1371.0              7099.0  ...   \n",
              "3                             779.0              7098.0  ...   \n",
              "4                             720.0              7097.0  ...   \n",
              "\n",
              "   generation other renewable  generation solar  generation waste  \\\n",
              "0                        73.0              49.0             196.0   \n",
              "1                        71.0              50.0             195.0   \n",
              "2                        73.0              50.0             196.0   \n",
              "3                        75.0              50.0             191.0   \n",
              "4                        74.0              42.0             189.0   \n",
              "\n",
              "   generation wind onshore  total load actual  month  year  dayofweek  hour  \\\n",
              "0                   6378.0            25385.0     12  2014          2    23   \n",
              "1                   5890.0            24382.0      1  2015          3     0   \n",
              "2                   5461.0            22734.0      1  2015          3     1   \n",
              "3                   5238.0            21286.0      1  2015          3     2   \n",
              "4                   4935.0            20264.0      1  2015          3     3   \n",
              "\n",
              "   day  \n",
              "0   31  \n",
              "1    1  \n",
              "2    1  \n",
              "3    1  \n",
              "4    1  \n",
              "\n",
              "[5 rows x 21 columns]"
            ]
          },
          "execution_count": 127,
          "metadata": {},
          "output_type": "execute_result"
        }
      ],
      "source": [
        "df.head()"
      ]
    },
    {
      "cell_type": "markdown",
      "metadata": {
        "id": "SV9ccxEJmazg"
      },
      "source": [
        "## different types of generations through days of week"
      ]
    },
    {
      "cell_type": "code",
      "execution_count": 128,
      "metadata": {
        "colab": {
          "base_uri": "https://localhost:8080/",
          "height": 339
        },
        "id": "xUjYNvERmazg",
        "outputId": "b3481d86-f731-469d-ee99-7e68ac3cc3e9"
      },
      "outputs": [
        {
          "data": {
            "text/html": [
              "<div>\n",
              "<style scoped>\n",
              "    .dataframe tbody tr th:only-of-type {\n",
              "        vertical-align: middle;\n",
              "    }\n",
              "\n",
              "    .dataframe tbody tr th {\n",
              "        vertical-align: top;\n",
              "    }\n",
              "\n",
              "    .dataframe thead th {\n",
              "        text-align: right;\n",
              "    }\n",
              "</style>\n",
              "<table border=\"1\" class=\"dataframe\">\n",
              "  <thead>\n",
              "    <tr style=\"text-align: right;\">\n",
              "      <th></th>\n",
              "      <th>dayofweek</th>\n",
              "      <th>generation biomass</th>\n",
              "      <th>generation fossil brown coal/lignite</th>\n",
              "      <th>generation fossil gas</th>\n",
              "      <th>generation fossil hard coal</th>\n",
              "      <th>generation fossil oil</th>\n",
              "      <th>generation hydro pumped storage consumption</th>\n",
              "      <th>generation hydro run-of-river and poundage</th>\n",
              "      <th>generation hydro water reservoir</th>\n",
              "      <th>generation nuclear</th>\n",
              "      <th>generation other</th>\n",
              "      <th>generation other renewable</th>\n",
              "      <th>generation solar</th>\n",
              "      <th>generation waste</th>\n",
              "      <th>generation wind onshore</th>\n",
              "      <th>total load actual</th>\n",
              "      <th>month</th>\n",
              "      <th>year</th>\n",
              "      <th>hour</th>\n",
              "      <th>day</th>\n",
              "    </tr>\n",
              "  </thead>\n",
              "  <tbody>\n",
              "    <tr>\n",
              "      <th>0</th>\n",
              "      <td>0</td>\n",
              "      <td>384.470330</td>\n",
              "      <td>449.547852</td>\n",
              "      <td>5831.531269</td>\n",
              "      <td>4319.416184</td>\n",
              "      <td>302.054357</td>\n",
              "      <td>428.792408</td>\n",
              "      <td>977.526873</td>\n",
              "      <td>2737.793007</td>\n",
              "      <td>6242.286314</td>\n",
              "      <td>60.277323</td>\n",
              "      <td>84.015584</td>\n",
              "      <td>1441.975824</td>\n",
              "      <td>268.929670</td>\n",
              "      <td>5463.961239</td>\n",
              "      <td>29127.054346</td>\n",
              "      <td>6.496510</td>\n",
              "      <td>2016.506879</td>\n",
              "      <td>11.497707</td>\n",
              "      <td>15.748156</td>\n",
              "    </tr>\n",
              "    <tr>\n",
              "      <th>1</th>\n",
              "      <td>1</td>\n",
              "      <td>382.418954</td>\n",
              "      <td>485.881587</td>\n",
              "      <td>5961.198557</td>\n",
              "      <td>4532.307954</td>\n",
              "      <td>309.860148</td>\n",
              "      <td>403.624123</td>\n",
              "      <td>982.074735</td>\n",
              "      <td>2697.071729</td>\n",
              "      <td>6253.797035</td>\n",
              "      <td>60.868964</td>\n",
              "      <td>85.432979</td>\n",
              "      <td>1426.807053</td>\n",
              "      <td>268.475255</td>\n",
              "      <td>5398.886796</td>\n",
              "      <td>29465.627581</td>\n",
              "      <td>6.500000</td>\n",
              "      <td>2016.500000</td>\n",
              "      <td>11.500000</td>\n",
              "      <td>15.802885</td>\n",
              "    </tr>\n",
              "    <tr>\n",
              "      <th>2</th>\n",
              "      <td>2</td>\n",
              "      <td>383.784927</td>\n",
              "      <td>491.241483</td>\n",
              "      <td>6050.055711</td>\n",
              "      <td>4580.431463</td>\n",
              "      <td>313.506012</td>\n",
              "      <td>372.859519</td>\n",
              "      <td>979.826052</td>\n",
              "      <td>2742.989379</td>\n",
              "      <td>6296.668938</td>\n",
              "      <td>60.378557</td>\n",
              "      <td>86.631663</td>\n",
              "      <td>1440.461323</td>\n",
              "      <td>268.161956</td>\n",
              "      <td>5463.119639</td>\n",
              "      <td>29736.304871</td>\n",
              "      <td>6.534749</td>\n",
              "      <td>2016.499499</td>\n",
              "      <td>11.502303</td>\n",
              "      <td>15.781895</td>\n",
              "    </tr>\n",
              "    <tr>\n",
              "      <th>3</th>\n",
              "      <td>3</td>\n",
              "      <td>384.394296</td>\n",
              "      <td>474.160152</td>\n",
              "      <td>5972.448544</td>\n",
              "      <td>4429.594535</td>\n",
              "      <td>310.525130</td>\n",
              "      <td>385.173349</td>\n",
              "      <td>983.561627</td>\n",
              "      <td>2747.718389</td>\n",
              "      <td>6297.459114</td>\n",
              "      <td>60.861588</td>\n",
              "      <td>87.487236</td>\n",
              "      <td>1459.501197</td>\n",
              "      <td>267.312724</td>\n",
              "      <td>5322.483446</td>\n",
              "      <td>29451.323295</td>\n",
              "      <td>6.540670</td>\n",
              "      <td>2016.492823</td>\n",
              "      <td>11.500000</td>\n",
              "      <td>15.688995</td>\n",
              "    </tr>\n",
              "    <tr>\n",
              "      <th>4</th>\n",
              "      <td>4</td>\n",
              "      <td>386.519442</td>\n",
              "      <td>485.663609</td>\n",
              "      <td>5842.576869</td>\n",
              "      <td>4425.906680</td>\n",
              "      <td>313.150548</td>\n",
              "      <td>387.479561</td>\n",
              "      <td>977.726620</td>\n",
              "      <td>2712.745962</td>\n",
              "      <td>6271.330409</td>\n",
              "      <td>60.172283</td>\n",
              "      <td>88.080957</td>\n",
              "      <td>1432.450847</td>\n",
              "      <td>271.023729</td>\n",
              "      <td>5337.061615</td>\n",
              "      <td>29346.252344</td>\n",
              "      <td>6.516746</td>\n",
              "      <td>2016.497608</td>\n",
              "      <td>11.500000</td>\n",
              "      <td>15.665072</td>\n",
              "    </tr>\n",
              "  </tbody>\n",
              "</table>\n",
              "</div>"
            ],
            "text/plain": [
              "   dayofweek  generation biomass  generation fossil brown coal/lignite  \\\n",
              "0          0          384.470330                            449.547852   \n",
              "1          1          382.418954                            485.881587   \n",
              "2          2          383.784927                            491.241483   \n",
              "3          3          384.394296                            474.160152   \n",
              "4          4          386.519442                            485.663609   \n",
              "\n",
              "   generation fossil gas  generation fossil hard coal  generation fossil oil  \\\n",
              "0            5831.531269                  4319.416184             302.054357   \n",
              "1            5961.198557                  4532.307954             309.860148   \n",
              "2            6050.055711                  4580.431463             313.506012   \n",
              "3            5972.448544                  4429.594535             310.525130   \n",
              "4            5842.576869                  4425.906680             313.150548   \n",
              "\n",
              "   generation hydro pumped storage consumption  \\\n",
              "0                                   428.792408   \n",
              "1                                   403.624123   \n",
              "2                                   372.859519   \n",
              "3                                   385.173349   \n",
              "4                                   387.479561   \n",
              "\n",
              "   generation hydro run-of-river and poundage  \\\n",
              "0                                  977.526873   \n",
              "1                                  982.074735   \n",
              "2                                  979.826052   \n",
              "3                                  983.561627   \n",
              "4                                  977.726620   \n",
              "\n",
              "   generation hydro water reservoir  generation nuclear  generation other  \\\n",
              "0                       2737.793007         6242.286314         60.277323   \n",
              "1                       2697.071729         6253.797035         60.868964   \n",
              "2                       2742.989379         6296.668938         60.378557   \n",
              "3                       2747.718389         6297.459114         60.861588   \n",
              "4                       2712.745962         6271.330409         60.172283   \n",
              "\n",
              "   generation other renewable  generation solar  generation waste  \\\n",
              "0                   84.015584       1441.975824        268.929670   \n",
              "1                   85.432979       1426.807053        268.475255   \n",
              "2                   86.631663       1440.461323        268.161956   \n",
              "3                   87.487236       1459.501197        267.312724   \n",
              "4                   88.080957       1432.450847        271.023729   \n",
              "\n",
              "   generation wind onshore  total load actual     month         year  \\\n",
              "0              5463.961239       29127.054346  6.496510  2016.506879   \n",
              "1              5398.886796       29465.627581  6.500000  2016.500000   \n",
              "2              5463.119639       29736.304871  6.534749  2016.499499   \n",
              "3              5322.483446       29451.323295  6.540670  2016.492823   \n",
              "4              5337.061615       29346.252344  6.516746  2016.497608   \n",
              "\n",
              "        hour        day  \n",
              "0  11.497707  15.748156  \n",
              "1  11.500000  15.802885  \n",
              "2  11.502303  15.781895  \n",
              "3  11.500000  15.688995  \n",
              "4  11.500000  15.665072  "
            ]
          },
          "execution_count": 128,
          "metadata": {},
          "output_type": "execute_result"
        }
      ],
      "source": [
        "df_dweek = df.groupby('dayofweek').mean().reset_index()\n",
        "df_dweek.head()"
      ]
    },
    {
      "cell_type": "code",
      "execution_count": 129,
      "metadata": {
        "colab": {
          "base_uri": "https://localhost:8080/",
          "height": 1000
        },
        "id": "R4pLILB6mazg",
        "outputId": "263030dd-e103-4f4e-fcb8-33a7cfd17560"
      },
      "outputs": [
        {
          "data": {
            "image/png": "[encoded data removed]",
            "text/plain": [
              "<Figure size 288x144 with 1 Axes>"
            ]
          },
          "metadata": {
            "needs_background": "light"
          },
          "output_type": "display_data"
        },
        {
          "data": {
            "image/png": "[encoded data removed]",
            "text/plain": [
              "<Figure size 288x144 with 1 Axes>"
            ]
          },
          "metadata": {
            "needs_background": "light"
          },
          "output_type": "display_data"
        },
        {
          "data": {
            "image/png": "[encoded data removed]",
            "text/plain": [
              "<Figure size 288x144 with 1 Axes>"
            ]
          },
          "metadata": {
            "needs_background": "light"
          },
          "output_type": "display_data"
        },
        {
          "data": {
            "image/png": "[encoded data removed]",
            "text/plain": [
              "<Figure size 288x144 with 1 Axes>"
            ]
          },
          "metadata": {
            "needs_background": "light"
          },
          "output_type": "display_data"
        },
        {
          "data": {
            "image/png": "[encoded data removed]",
            "text/plain": [
              "<Figure size 288x144 with 1 Axes>"
            ]
          },
          "metadata": {
            "needs_background": "light"
          },
          "output_type": "display_data"
        },
        {
          "data": {
            "image/png": "[encoded data removed]",
            "text/plain": [
              "<Figure size 288x144 with 1 Axes>"
            ]
          },
          "metadata": {
            "needs_background": "light"
          },
          "output_type": "display_data"
        },
        {
          "data": {
            "image/png": "[encoded data removed]",
            "text/plain": [
              "<Figure size 288x144 with 1 Axes>"
            ]
          },
          "metadata": {
            "needs_background": "light"
          },
          "output_type": "display_data"
        },
        {
          "data": {
            "image/png": "[encoded data removed]",
            "text/plain": [
              "<Figure size 288x144 with 1 Axes>"
            ]
          },
          "metadata": {
            "needs_background": "light"
          },
          "output_type": "display_data"
        },
        {
          "data": {
            "image/png": "[encoded data removed]",
            "text/plain": [
              "<Figure size 288x144 with 1 Axes>"
            ]
          },
          "metadata": {
            "needs_background": "light"
          },
          "output_type": "display_data"
        },
        {
          "data": {
            "image/png": "[encoded data removed]",
            "text/plain": [
              "<Figure size 288x144 with 1 Axes>"
            ]
          },
          "metadata": {
            "needs_background": "light"
          },
          "output_type": "display_data"
        },
        {
          "data": {
            "image/png": "[encoded data removed]",
            "text/plain": [
              "<Figure size 288x144 with 1 Axes>"
            ]
          },
          "metadata": {
            "needs_background": "light"
          },
          "output_type": "display_data"
        },
        {
          "data": {
            "image/png": "[encoded data removed]",
            "text/plain": [
              "<Figure size 288x144 with 1 Axes>"
            ]
          },
          "metadata": {
            "needs_background": "light"
          },
          "output_type": "display_data"
        },
        {
          "data": {
            "image/png": "[encoded data removed]",
            "text/plain": [
              "<Figure size 288x144 with 1 Axes>"
            ]
          },
          "metadata": {
            "needs_background": "light"
          },
          "output_type": "display_data"
        },
        {
          "data": {
            "image/png": "[encoded data removed]",
            "text/plain": [
              "<Figure size 288x144 with 1 Axes>"
            ]
          },
          "metadata": {
            "needs_background": "light"
          },
          "output_type": "display_data"
        },
        {
          "data": {
            "image/png": "[encoded data removed]",
            "text/plain": [
              "<Figure size 288x144 with 1 Axes>"
            ]
          },
          "metadata": {
            "needs_background": "light"
          },
          "output_type": "display_data"
        },
        {
          "data": {
            "image/png": "[encoded data removed]",
            "text/plain": [
              "<Figure size 288x144 with 1 Axes>"
            ]
          },
          "metadata": {
            "needs_background": "light"
          },
          "output_type": "display_data"
        }
      ],
      "source": [
        "df_dweek = df_dweek.drop(['month', 'year', 'hour'], axis = 1)\n",
        "\n",
        "for i in df_dweek.columns[1:]:\n",
        "    plt.figure(i).set_size_inches((4,2))\n",
        "    ax = sns.barplot(y = i, x = 'dayofweek', data = df_dweek)\n",
        "    ax.set_title(i)"
      ]
    },
    {
      "cell_type": "code",
      "execution_count": 130,
      "metadata": {
        "id": "p8MrPCbrmazg"
      },
      "outputs": [],
      "source": [
        "df_month = df.groupby('month').mean().reset_index()\n",
        "df_month = df_month.drop(['dayofweek', 'year', 'hour'], axis = 1)\n"
      ]
    },
    {
      "cell_type": "code",
      "execution_count": 131,
      "metadata": {
        "colab": {
          "base_uri": "https://localhost:8080/",
          "height": 1000
        },
        "id": "ldAGrG7Ymazg",
        "outputId": "859aab14-afb5-492b-c2da-379216c720de"
      },
      "outputs": [
        {
          "data": {
            "image/png": "[encoded data removed]",
            "text/plain": [
              "<Figure size 288x144 with 1 Axes>"
            ]
          },
          "metadata": {
            "needs_background": "light"
          },
          "output_type": "display_data"
        },
        {
          "data": {
            "image/png": "[encoded data removed]",
            "text/plain": [
              "<Figure size 288x144 with 1 Axes>"
            ]
          },
          "metadata": {
            "needs_background": "light"
          },
          "output_type": "display_data"
        },
        {
          "data": {
            "image/png": "[encoded data removed]",
            "text/plain": [
              "<Figure size 288x144 with 1 Axes>"
            ]
          },
          "metadata": {
            "needs_background": "light"
          },
          "output_type": "display_data"
        },
        {
          "data": {
            "image/png": "[encoded data removed]",
            "text/plain": [
              "<Figure size 288x144 with 1 Axes>"
            ]
          },
          "metadata": {
            "needs_background": "light"
          },
          "output_type": "display_data"
        },
        {
          "data": {
            "image/png": "[encoded data removed]",
            "text/plain": [
              "<Figure size 288x144 with 1 Axes>"
            ]
          },
          "metadata": {
            "needs_background": "light"
          },
          "output_type": "display_data"
        },
        {
          "data": {
            "image/png": "[encoded data removed]",
            "text/plain": [
              "<Figure size 288x144 with 1 Axes>"
            ]
          },
          "metadata": {
            "needs_background": "light"
          },
          "output_type": "display_data"
        },
        {
          "data": {
            "image/png": "[encoded data removed]",
            "text/plain": [
              "<Figure size 288x144 with 1 Axes>"
            ]
          },
          "metadata": {
            "needs_background": "light"
          },
          "output_type": "display_data"
        },
        {
          "data": {
            "image/png": "[encoded data removed]",
            "text/plain": [
              "<Figure size 288x144 with 1 Axes>"
            ]
          },
          "metadata": {
            "needs_background": "light"
          },
          "output_type": "display_data"
        },
        {
          "data": {
            "image/png": "[encoded data removed]",
            "text/plain": [
              "<Figure size 288x144 with 1 Axes>"
            ]
          },
          "metadata": {
            "needs_background": "light"
          },
          "output_type": "display_data"
        },
        {
          "data": {
            "image/png": "[encoded data removed]",
            "text/plain": [
              "<Figure size 288x144 with 1 Axes>"
            ]
          },
          "metadata": {
            "needs_background": "light"
          },
          "output_type": "display_data"
        },
        {
          "data": {
            "image/png": "[encoded data removed]",
            "text/plain": [
              "<Figure size 288x144 with 1 Axes>"
            ]
          },
          "metadata": {
            "needs_background": "light"
          },
          "output_type": "display_data"
        },
        {
          "data": {
            "image/png": "[encoded data removed]",
            "text/plain": [
              "<Figure size 288x144 with 1 Axes>"
            ]
          },
          "metadata": {
            "needs_background": "light"
          },
          "output_type": "display_data"
        },
        {
          "data": {
            "image/png": "[encoded data removed]",
            "text/plain": [
              "<Figure size 288x144 with 1 Axes>"
            ]
          },
          "metadata": {
            "needs_background": "light"
          },
          "output_type": "display_data"
        },
        {
          "data": {
            "image/png": "[encoded data removed]",
            "text/plain": [
              "<Figure size 288x144 with 1 Axes>"
            ]
          },
          "metadata": {
            "needs_background": "light"
          },
          "output_type": "display_data"
        },
        {
          "data": {
            "image/png": "[encoded data removed]",
            "text/plain": [
              "<Figure size 288x144 with 1 Axes>"
            ]
          },
          "metadata": {
            "needs_background": "light"
          },
          "output_type": "display_data"
        },
        {
          "data": {
            "image/png": "[encoded data removed]",
            "text/plain": [
              "<Figure size 288x144 with 1 Axes>"
            ]
          },
          "metadata": {
            "needs_background": "light"
          },
          "output_type": "display_data"
        }
      ],
      "source": [
        "for i in df_month.columns[1:]:\n",
        "    plt.figure(i).set_size_inches((4,2))\n",
        "    ax = sns.barplot(y = i, x = 'month', data = df_month)\n",
        "    ax.set_title(i)"
      ]
    },
    {
      "cell_type": "code",
      "execution_count": 132,
      "metadata": {
        "colab": {
          "base_uri": "https://localhost:8080/"
        },
        "id": "iAuc0Pv1mazh",
        "outputId": "1b05033e-0227-43e2-d937-535ac348b5ba"
      },
      "outputs": [],
      "source": [
        "df = df[['year', 'month', 'day', 'dayofweek', 'hour', 'total load actual']]\n",
        "df['MA_7D' ] = df['total load actual'].copy().rolling(7).mean()\n",
        "df['MA_30D' ] = df['total load actual'].copy().rolling(30).mean()\n",
        "df.dropna(inplace = True)"
      ]
    },
    {
      "cell_type": "code",
      "execution_count": 133,
      "metadata": {
        "colab": {
          "base_uri": "https://localhost:8080/",
          "height": 298
        },
        "id": "TkyWElSMmazh",
        "outputId": "2f9b8b7f-4a79-49c5-812f-df97eaf0ad43"
      },
      "outputs": [
        {
          "data": {
            "text/plain": [
              "Text(0.5, 0, '')"
            ]
          },
          "execution_count": 133,
          "metadata": {},
          "output_type": "execute_result"
        },
        {
          "data": {
            "image/png": "[encoded data removed]",
            "text/plain": [
              "<Figure size 432x288 with 1 Axes>"
            ]
          },
          "metadata": {
            "needs_background": "light"
          },
          "output_type": "display_data"
        }
      ],
      "source": [
        "correlations = df.corr()['total load actual'].reset_index()\n",
        "ax = sns.barplot(x = 'total load actual', y = 'index', data = correlations.sort_values(ascending= False, by = 'total load actual')[1:])\n",
        "ax.set_title('Correlation with total load actual')\n",
        "ax.set_ylabel('Field')\n",
        "ax.set_xlabel('')"
      ]
    },
    {
      "cell_type": "code",
      "execution_count": 134,
      "metadata": {
        "id": "Hk_BHALjmazh"
      },
      "outputs": [],
      "source": [
        "from xgboost import XGBRegressor\n",
        "from sklearn.model_selection import cross_val_score\n",
        "from sklearn.metrics import mean_squared_error, mean_absolute_percentage_error"
      ]
    },
    {
      "cell_type": "code",
      "execution_count": 135,
      "metadata": {
        "id": "cCAZr72smazh"
      },
      "outputs": [],
      "source": [
        "x = df.drop('total load actual', axis = 1)\n",
        "y = df['total load actual']\n",
        "test_size = 0.2\n",
        "data_size = len(x)\n",
        "x_train = x[:(int(data_size * (1-test_size)))]\n",
        "x_test = x[(int(data_size * (1-test_size))):]\n",
        "y_train = y[:(int(data_size * (1-test_size)))]\n",
        "y_test = y[(int(data_size * (1-test_size))):]"
      ]
    },
    {
      "cell_type": "code",
      "execution_count": 136,
      "metadata": {
        "colab": {
          "base_uri": "https://localhost:8080/"
        },
        "id": "hdRdjctxmazh",
        "outputId": "67e0cb08-0e42-431e-e7ad-cdfa49dbf018"
      },
      "outputs": [
        {
          "name": "stdout",
          "output_type": "stream",
          "text": [
            "[0]\tvalidation_0-rmse:28725.96818\tvalidation_1-rmse:28905.70882\n",
            "[100]\tvalidation_0-rmse:10598.80518\tvalidation_1-rmse:10629.30585\n",
            "[200]\tvalidation_0-rmse:4015.79509\tvalidation_1-rmse:4021.49655\n",
            "[300]\tvalidation_0-rmse:1718.67167\tvalidation_1-rmse:1724.37706\n",
            "[400]\tvalidation_0-rmse:1024.71546\tvalidation_1-rmse:1046.76526\n",
            "[500]\tvalidation_0-rmse:832.10642\tvalidation_1-rmse:868.85452\n",
            "[600]\tvalidation_0-rmse:769.84898\tvalidation_1-rmse:815.59294\n",
            "[700]\tvalidation_0-rmse:738.88014\tvalidation_1-rmse:789.85703\n",
            "[800]\tvalidation_0-rmse:716.94994\tvalidation_1-rmse:774.15167\n",
            "[900]\tvalidation_0-rmse:698.27464\tvalidation_1-rmse:761.12341\n",
            "[1000]\tvalidation_0-rmse:682.53715\tvalidation_1-rmse:751.38635\n",
            "[1100]\tvalidation_0-rmse:666.47507\tvalidation_1-rmse:742.30506\n",
            "[1200]\tvalidation_0-rmse:652.37112\tvalidation_1-rmse:732.82338\n",
            "[1300]\tvalidation_0-rmse:643.27300\tvalidation_1-rmse:728.12705\n",
            "[1400]\tvalidation_0-rmse:634.39965\tvalidation_1-rmse:724.01938\n",
            "[1500]\tvalidation_0-rmse:622.86698\tvalidation_1-rmse:717.09498\n",
            "[1600]\tvalidation_0-rmse:616.37619\tvalidation_1-rmse:714.73532\n",
            "[1700]\tvalidation_0-rmse:609.82411\tvalidation_1-rmse:712.93107\n",
            "[1800]\tvalidation_0-rmse:602.96273\tvalidation_1-rmse:709.61803\n",
            "[1900]\tvalidation_0-rmse:595.69442\tvalidation_1-rmse:706.60495\n",
            "[2000]\tvalidation_0-rmse:587.87540\tvalidation_1-rmse:703.20935\n",
            "[2100]\tvalidation_0-rmse:580.70215\tvalidation_1-rmse:700.07378\n",
            "[2200]\tvalidation_0-rmse:576.47681\tvalidation_1-rmse:698.68839\n",
            "[2300]\tvalidation_0-rmse:571.17335\tvalidation_1-rmse:696.39063\n",
            "[2400]\tvalidation_0-rmse:566.60111\tvalidation_1-rmse:694.49484\n",
            "[2500]\tvalidation_0-rmse:560.29549\tvalidation_1-rmse:691.81298\n",
            "[2600]\tvalidation_0-rmse:555.89782\tvalidation_1-rmse:690.40744\n",
            "[2700]\tvalidation_0-rmse:551.20916\tvalidation_1-rmse:688.98644\n",
            "[2800]\tvalidation_0-rmse:545.88942\tvalidation_1-rmse:686.78343\n",
            "[2900]\tvalidation_0-rmse:540.89157\tvalidation_1-rmse:684.64714\n",
            "[3000]\tvalidation_0-rmse:536.56750\tvalidation_1-rmse:683.54577\n",
            "[3100]\tvalidation_0-rmse:531.40086\tvalidation_1-rmse:681.62048\n",
            "[3200]\tvalidation_0-rmse:526.83601\tvalidation_1-rmse:680.36059\n",
            "[3300]\tvalidation_0-rmse:522.34559\tvalidation_1-rmse:679.22708\n",
            "[3400]\tvalidation_0-rmse:517.69852\tvalidation_1-rmse:677.29409\n",
            "[3500]\tvalidation_0-rmse:513.64751\tvalidation_1-rmse:675.90841\n",
            "[3600]\tvalidation_0-rmse:507.51590\tvalidation_1-rmse:674.12474\n",
            "[3700]\tvalidation_0-rmse:502.72986\tvalidation_1-rmse:671.92962\n",
            "[3800]\tvalidation_0-rmse:498.43131\tvalidation_1-rmse:670.50593\n",
            "[3900]\tvalidation_0-rmse:493.56455\tvalidation_1-rmse:668.60832\n",
            "[4000]\tvalidation_0-rmse:488.19853\tvalidation_1-rmse:667.35980\n",
            "[4100]\tvalidation_0-rmse:481.85985\tvalidation_1-rmse:665.14889\n",
            "[4200]\tvalidation_0-rmse:479.06282\tvalidation_1-rmse:664.63310\n",
            "[4300]\tvalidation_0-rmse:476.37751\tvalidation_1-rmse:664.15764\n",
            "[4400]\tvalidation_0-rmse:473.10609\tvalidation_1-rmse:663.08461\n",
            "[4500]\tvalidation_0-rmse:470.76501\tvalidation_1-rmse:662.84574\n",
            "[4600]\tvalidation_0-rmse:468.22394\tvalidation_1-rmse:662.40458\n",
            "[4700]\tvalidation_0-rmse:466.21073\tvalidation_1-rmse:661.98354\n",
            "[4765]\tvalidation_0-rmse:465.07738\tvalidation_1-rmse:662.10559\n"
          ]
        }
      ],
      "source": [
        "model = XGBRegressor(n_estimators=15000,\n",
        "                       early_stopping_rounds=50,\n",
        "                       learning_rate=0.01)\n",
        "model.fit(x_train, y_train,\n",
        "          eval_set=[(x_train, y_train), (x_test, y_test)],\n",
        "          verbose=100)\n",
        "\n",
        "y_pred = model.predict(x_test)"
      ]
    },
    {
      "cell_type": "code",
      "execution_count": 137,
      "metadata": {
        "id": "rjFRyr8jmazh"
      },
      "outputs": [],
      "source": [
        "mse = mean_squared_error(y_test, y_pred)\n",
        "mape = mean_absolute_percentage_error(y_test, y_pred)\n",
        "r2 = model.score(x_test, y_test)"
      ]
    },
    {
      "cell_type": "code",
      "execution_count": 138,
      "metadata": {
        "colab": {
          "base_uri": "https://localhost:8080/"
        },
        "id": "AChPI2gAmazi",
        "outputId": "354f17d7-cc8d-4b74-9c77-d948a5f308c8"
      },
      "outputs": [
        {
          "name": "stdout",
          "output_type": "stream",
          "text": [
            "R²: 0.98\n",
            "MSE: 438160.69\n",
            "RMSE: 661.94\n",
            "MAPE: 1.62%\n"
          ]
        }
      ],
      "source": [
        "print(\"R²: %.2f\" % r2)\n",
        "print(\"MSE: %.2f\" % mse)\n",
        "print(\"RMSE: %.2f\" % (mse**(1/2.0)))\n",
        "print(\"MAPE: %.2f\" % (mape * 100) + '%')"
      ]
    },
    {
      "cell_type": "code",
      "execution_count": 139,
      "metadata": {
        "colab": {
          "base_uri": "https://localhost:8080/",
          "height": 423
        },
        "id": "CFqmE3fnmazi",
        "outputId": "9075e5bc-4cbb-4151-ca84-2ddeeb64993a"
      },
      "outputs": [
        {
          "data": {
            "text/html": [
              "<div>\n",
              "<style scoped>\n",
              "    .dataframe tbody tr th:only-of-type {\n",
              "        vertical-align: middle;\n",
              "    }\n",
              "\n",
              "    .dataframe tbody tr th {\n",
              "        vertical-align: top;\n",
              "    }\n",
              "\n",
              "    .dataframe thead th {\n",
              "        text-align: right;\n",
              "    }\n",
              "</style>\n",
              "<table border=\"1\" class=\"dataframe\">\n",
              "  <thead>\n",
              "    <tr style=\"text-align: right;\">\n",
              "      <th></th>\n",
              "      <th>year</th>\n",
              "      <th>month</th>\n",
              "      <th>day</th>\n",
              "      <th>dayofweek</th>\n",
              "      <th>hour</th>\n",
              "      <th>total load actual</th>\n",
              "      <th>MA_7D</th>\n",
              "      <th>MA_30D</th>\n",
              "      <th>real/forecast</th>\n",
              "    </tr>\n",
              "  </thead>\n",
              "  <tbody>\n",
              "    <tr>\n",
              "      <th>29</th>\n",
              "      <td>2015</td>\n",
              "      <td>1</td>\n",
              "      <td>2</td>\n",
              "      <td>4</td>\n",
              "      <td>4</td>\n",
              "      <td>22066.0</td>\n",
              "      <td>24102.714286</td>\n",
              "      <td>23848.100000</td>\n",
              "      <td>real</td>\n",
              "    </tr>\n",
              "    <tr>\n",
              "      <th>30</th>\n",
              "      <td>2015</td>\n",
              "      <td>1</td>\n",
              "      <td>2</td>\n",
              "      <td>4</td>\n",
              "      <td>5</td>\n",
              "      <td>22275.0</td>\n",
              "      <td>23456.571429</td>\n",
              "      <td>23744.433333</td>\n",
              "      <td>real</td>\n",
              "    </tr>\n",
              "    <tr>\n",
              "      <th>31</th>\n",
              "      <td>2015</td>\n",
              "      <td>1</td>\n",
              "      <td>2</td>\n",
              "      <td>4</td>\n",
              "      <td>6</td>\n",
              "      <td>23025.0</td>\n",
              "      <td>22878.714286</td>\n",
              "      <td>23699.200000</td>\n",
              "      <td>real</td>\n",
              "    </tr>\n",
              "    <tr>\n",
              "      <th>32</th>\n",
              "      <td>2015</td>\n",
              "      <td>1</td>\n",
              "      <td>2</td>\n",
              "      <td>4</td>\n",
              "      <td>7</td>\n",
              "      <td>23699.0</td>\n",
              "      <td>22702.142857</td>\n",
              "      <td>23731.366667</td>\n",
              "      <td>real</td>\n",
              "    </tr>\n",
              "    <tr>\n",
              "      <th>33</th>\n",
              "      <td>2015</td>\n",
              "      <td>1</td>\n",
              "      <td>2</td>\n",
              "      <td>4</td>\n",
              "      <td>8</td>\n",
              "      <td>25834.0</td>\n",
              "      <td>23076.428571</td>\n",
              "      <td>23882.966667</td>\n",
              "      <td>real</td>\n",
              "    </tr>\n",
              "  </tbody>\n",
              "</table>\n",
              "</div>"
            ],
            "text/plain": [
              "    year  month  day  dayofweek  hour  total load actual         MA_7D  \\\n",
              "29  2015      1    2          4     4            22066.0  24102.714286   \n",
              "30  2015      1    2          4     5            22275.0  23456.571429   \n",
              "31  2015      1    2          4     6            23025.0  22878.714286   \n",
              "32  2015      1    2          4     7            23699.0  22702.142857   \n",
              "33  2015      1    2          4     8            25834.0  23076.428571   \n",
              "\n",
              "          MA_30D real/forecast  \n",
              "29  23848.100000          real  \n",
              "30  23744.433333          real  \n",
              "31  23699.200000          real  \n",
              "32  23731.366667          real  \n",
              "33  23882.966667          real  "
            ]
          },
          "execution_count": 139,
          "metadata": {},
          "output_type": "execute_result"
        }
      ],
      "source": [
        "df['real/forecast'] = 'real'\n",
        "df.head()"
      ]
    },
    {
      "cell_type": "code",
      "execution_count": 140,
      "metadata": {
        "id": "g1m4yIVnmazi"
      },
      "outputs": [],
      "source": [
        "import calendar\n",
        "year = 2019\n",
        "dayofweek = 0\n",
        "for month in range(1, 13):\n",
        "    for day in range(1, calendar.monthrange(year, month)[1] + 1):\n",
        "        if dayofweek == 6:\n",
        "            dayofweek = 0\n",
        "        else:\n",
        "            dayofweek += 1\n",
        "        for hour in range(24):\n",
        "            MA_7D = df['total load actual'][-7:].mean()\n",
        "            MA_30D = df['total load actual'][-30:].mean()\n",
        "            ponto = pd.DataFrame({'year':[year], 'month':[month], 'day':[day], 'dayofweek':[dayofweek], 'hour': [hour], 'MA_7D':[MA_7D],\n",
        "                       'MA_30D' : [MA_30D]})\n",
        "            predicao = model.predict(ponto)\n",
        "            df = df.append({'year':year, 'month':month, 'day':day, 'dayofweek':dayofweek, 'hour': hour, 'MA_7D':MA_7D,\n",
        "                    'MA_30D': MA_30D, 'real/forecast': 'forecast', 'total load actual':predicao[0]}, ignore_index = True)"
      ]
    },
    {
      "cell_type": "code",
      "execution_count": 141,
      "metadata": {},
      "outputs": [
        {
          "data": {
            "text/html": [
              "<div>\n",
              "<style scoped>\n",
              "    .dataframe tbody tr th:only-of-type {\n",
              "        vertical-align: middle;\n",
              "    }\n",
              "\n",
              "    .dataframe tbody tr th {\n",
              "        vertical-align: top;\n",
              "    }\n",
              "\n",
              "    .dataframe thead th {\n",
              "        text-align: right;\n",
              "    }\n",
              "</style>\n",
              "<table border=\"1\" class=\"dataframe\">\n",
              "  <thead>\n",
              "    <tr style=\"text-align: right;\">\n",
              "      <th></th>\n",
              "      <th>year</th>\n",
              "      <th>month</th>\n",
              "      <th>day</th>\n",
              "      <th>dayofweek</th>\n",
              "      <th>hour</th>\n",
              "      <th>total load actual</th>\n",
              "      <th>MA_7D</th>\n",
              "      <th>MA_30D</th>\n",
              "      <th>real/forecast</th>\n",
              "    </tr>\n",
              "  </thead>\n",
              "  <tbody>\n",
              "    <tr>\n",
              "      <th>43221</th>\n",
              "      <td>2019</td>\n",
              "      <td>12</td>\n",
              "      <td>31</td>\n",
              "      <td>1</td>\n",
              "      <td>19</td>\n",
              "      <td>34502.496094</td>\n",
              "      <td>32787.945592</td>\n",
              "      <td>31155.996094</td>\n",
              "      <td>forecast</td>\n",
              "    </tr>\n",
              "    <tr>\n",
              "      <th>43222</th>\n",
              "      <td>2019</td>\n",
              "      <td>12</td>\n",
              "      <td>31</td>\n",
              "      <td>1</td>\n",
              "      <td>20</td>\n",
              "      <td>32861.328125</td>\n",
              "      <td>33063.167132</td>\n",
              "      <td>31224.000195</td>\n",
              "      <td>forecast</td>\n",
              "    </tr>\n",
              "    <tr>\n",
              "      <th>43223</th>\n",
              "      <td>2019</td>\n",
              "      <td>12</td>\n",
              "      <td>31</td>\n",
              "      <td>1</td>\n",
              "      <td>21</td>\n",
              "      <td>30449.294922</td>\n",
              "      <td>33144.074498</td>\n",
              "      <td>31252.261654</td>\n",
              "      <td>forecast</td>\n",
              "    </tr>\n",
              "    <tr>\n",
              "      <th>43224</th>\n",
              "      <td>2019</td>\n",
              "      <td>12</td>\n",
              "      <td>31</td>\n",
              "      <td>1</td>\n",
              "      <td>22</td>\n",
              "      <td>27733.371094</td>\n",
              "      <td>32939.599609</td>\n",
              "      <td>31204.431771</td>\n",
              "      <td>forecast</td>\n",
              "    </tr>\n",
              "    <tr>\n",
              "      <th>43225</th>\n",
              "      <td>2019</td>\n",
              "      <td>12</td>\n",
              "      <td>31</td>\n",
              "      <td>1</td>\n",
              "      <td>23</td>\n",
              "      <td>25019.425781</td>\n",
              "      <td>32351.230190</td>\n",
              "      <td>31048.575521</td>\n",
              "      <td>forecast</td>\n",
              "    </tr>\n",
              "  </tbody>\n",
              "</table>\n",
              "</div>"
            ],
            "text/plain": [
              "       year  month  day  dayofweek  hour  total load actual         MA_7D  \\\n",
              "43221  2019     12   31          1    19       34502.496094  32787.945592   \n",
              "43222  2019     12   31          1    20       32861.328125  33063.167132   \n",
              "43223  2019     12   31          1    21       30449.294922  33144.074498   \n",
              "43224  2019     12   31          1    22       27733.371094  32939.599609   \n",
              "43225  2019     12   31          1    23       25019.425781  32351.230190   \n",
              "\n",
              "             MA_30D real/forecast  \n",
              "43221  31155.996094      forecast  \n",
              "43222  31224.000195      forecast  \n",
              "43223  31252.261654      forecast  \n",
              "43224  31204.431771      forecast  \n",
              "43225  31048.575521      forecast  "
            ]
          },
          "execution_count": 141,
          "metadata": {},
          "output_type": "execute_result"
        }
      ],
      "source": [
        "df.tail()"
      ]
    },
    {
      "cell_type": "code",
      "execution_count": 142,
      "metadata": {
        "colab": {
          "base_uri": "https://localhost:8080/",
          "height": 206
        },
        "id": "iYbDDIeqmazi",
        "outputId": "cc727a58-cec5-4295-de6c-f6462fbbc6b6"
      },
      "outputs": [
        {
          "data": {
            "text/html": [
              "<div>\n",
              "<style scoped>\n",
              "    .dataframe tbody tr th:only-of-type {\n",
              "        vertical-align: middle;\n",
              "    }\n",
              "\n",
              "    .dataframe tbody tr th {\n",
              "        vertical-align: top;\n",
              "    }\n",
              "\n",
              "    .dataframe thead th {\n",
              "        text-align: right;\n",
              "    }\n",
              "</style>\n",
              "<table border=\"1\" class=\"dataframe\">\n",
              "  <thead>\n",
              "    <tr style=\"text-align: right;\">\n",
              "      <th></th>\n",
              "      <th>year</th>\n",
              "      <th>month</th>\n",
              "      <th>day</th>\n",
              "      <th>dayofweek</th>\n",
              "      <th>hour</th>\n",
              "      <th>total load actual</th>\n",
              "      <th>MA_7D</th>\n",
              "      <th>MA_30D</th>\n",
              "      <th>real/forecast</th>\n",
              "    </tr>\n",
              "  </thead>\n",
              "  <tbody>\n",
              "    <tr>\n",
              "      <th>34461</th>\n",
              "      <td>2018</td>\n",
              "      <td>12</td>\n",
              "      <td>31</td>\n",
              "      <td>0</td>\n",
              "      <td>18</td>\n",
              "      <td>30653.0</td>\n",
              "      <td>28152.142857</td>\n",
              "      <td>26374.866667</td>\n",
              "      <td>real</td>\n",
              "    </tr>\n",
              "    <tr>\n",
              "      <th>34462</th>\n",
              "      <td>2018</td>\n",
              "      <td>12</td>\n",
              "      <td>31</td>\n",
              "      <td>0</td>\n",
              "      <td>19</td>\n",
              "      <td>29735.0</td>\n",
              "      <td>28309.142857</td>\n",
              "      <td>26457.233333</td>\n",
              "      <td>real</td>\n",
              "    </tr>\n",
              "    <tr>\n",
              "      <th>34463</th>\n",
              "      <td>2018</td>\n",
              "      <td>12</td>\n",
              "      <td>31</td>\n",
              "      <td>0</td>\n",
              "      <td>20</td>\n",
              "      <td>28071.0</td>\n",
              "      <td>28321.000000</td>\n",
              "      <td>26526.200000</td>\n",
              "      <td>real</td>\n",
              "    </tr>\n",
              "    <tr>\n",
              "      <th>34464</th>\n",
              "      <td>2018</td>\n",
              "      <td>12</td>\n",
              "      <td>31</td>\n",
              "      <td>0</td>\n",
              "      <td>21</td>\n",
              "      <td>25801.0</td>\n",
              "      <td>28148.428571</td>\n",
              "      <td>26542.466667</td>\n",
              "      <td>real</td>\n",
              "    </tr>\n",
              "    <tr>\n",
              "      <th>34465</th>\n",
              "      <td>2018</td>\n",
              "      <td>12</td>\n",
              "      <td>31</td>\n",
              "      <td>0</td>\n",
              "      <td>22</td>\n",
              "      <td>24455.0</td>\n",
              "      <td>27863.571429</td>\n",
              "      <td>26505.900000</td>\n",
              "      <td>real</td>\n",
              "    </tr>\n",
              "  </tbody>\n",
              "</table>\n",
              "</div>"
            ],
            "text/plain": [
              "       year  month  day  dayofweek  hour  total load actual         MA_7D  \\\n",
              "34461  2018     12   31          0    18            30653.0  28152.142857   \n",
              "34462  2018     12   31          0    19            29735.0  28309.142857   \n",
              "34463  2018     12   31          0    20            28071.0  28321.000000   \n",
              "34464  2018     12   31          0    21            25801.0  28148.428571   \n",
              "34465  2018     12   31          0    22            24455.0  27863.571429   \n",
              "\n",
              "             MA_30D real/forecast  \n",
              "34461  26374.866667          real  \n",
              "34462  26457.233333          real  \n",
              "34463  26526.200000          real  \n",
              "34464  26542.466667          real  \n",
              "34465  26505.900000          real  "
            ]
          },
          "execution_count": 142,
          "metadata": {},
          "output_type": "execute_result"
        }
      ],
      "source": [
        "df.loc[df['real/forecast'] == 'real'].tail(5)"
      ]
    },
    {
      "cell_type": "code",
      "execution_count": 143,
      "metadata": {
        "colab": {
          "base_uri": "https://localhost:8080/",
          "height": 206
        },
        "id": "2G90tqVlq_1R",
        "outputId": "f5e6301c-8447-411b-938f-38541d0ea780"
      },
      "outputs": [
        {
          "data": {
            "text/html": [
              "<div>\n",
              "<style scoped>\n",
              "    .dataframe tbody tr th:only-of-type {\n",
              "        vertical-align: middle;\n",
              "    }\n",
              "\n",
              "    .dataframe tbody tr th {\n",
              "        vertical-align: top;\n",
              "    }\n",
              "\n",
              "    .dataframe thead th {\n",
              "        text-align: right;\n",
              "    }\n",
              "</style>\n",
              "<table border=\"1\" class=\"dataframe\">\n",
              "  <thead>\n",
              "    <tr style=\"text-align: right;\">\n",
              "      <th></th>\n",
              "      <th>year</th>\n",
              "      <th>month</th>\n",
              "      <th>day</th>\n",
              "      <th>dayofweek</th>\n",
              "      <th>hour</th>\n",
              "      <th>total load actual</th>\n",
              "      <th>MA_7D</th>\n",
              "      <th>MA_30D</th>\n",
              "      <th>real/forecast</th>\n",
              "    </tr>\n",
              "  </thead>\n",
              "  <tbody>\n",
              "    <tr>\n",
              "      <th>34466</th>\n",
              "      <td>2019</td>\n",
              "      <td>1</td>\n",
              "      <td>1</td>\n",
              "      <td>1</td>\n",
              "      <td>0</td>\n",
              "      <td>23833.119141</td>\n",
              "      <td>27863.571429</td>\n",
              "      <td>26505.900000</td>\n",
              "      <td>forecast</td>\n",
              "    </tr>\n",
              "    <tr>\n",
              "      <th>34467</th>\n",
              "      <td>2019</td>\n",
              "      <td>1</td>\n",
              "      <td>1</td>\n",
              "      <td>1</td>\n",
              "      <td>1</td>\n",
              "      <td>23230.160156</td>\n",
              "      <td>27448.588449</td>\n",
              "      <td>26364.603971</td>\n",
              "      <td>forecast</td>\n",
              "    </tr>\n",
              "    <tr>\n",
              "      <th>34468</th>\n",
              "      <td>2019</td>\n",
              "      <td>1</td>\n",
              "      <td>1</td>\n",
              "      <td>1</td>\n",
              "      <td>2</td>\n",
              "      <td>22241.367188</td>\n",
              "      <td>26539.754185</td>\n",
              "      <td>26164.909310</td>\n",
              "      <td>forecast</td>\n",
              "    </tr>\n",
              "    <tr>\n",
              "      <th>34469</th>\n",
              "      <td>2019</td>\n",
              "      <td>1</td>\n",
              "      <td>1</td>\n",
              "      <td>1</td>\n",
              "      <td>3</td>\n",
              "      <td>21925.996094</td>\n",
              "      <td>25338.092355</td>\n",
              "      <td>25904.888216</td>\n",
              "      <td>forecast</td>\n",
              "    </tr>\n",
              "    <tr>\n",
              "      <th>34470</th>\n",
              "      <td>2019</td>\n",
              "      <td>1</td>\n",
              "      <td>1</td>\n",
              "      <td>1</td>\n",
              "      <td>4</td>\n",
              "      <td>23020.617188</td>\n",
              "      <td>24222.520368</td>\n",
              "      <td>25628.121419</td>\n",
              "      <td>forecast</td>\n",
              "    </tr>\n",
              "  </tbody>\n",
              "</table>\n",
              "</div>"
            ],
            "text/plain": [
              "       year  month  day  dayofweek  hour  total load actual         MA_7D  \\\n",
              "34466  2019      1    1          1     0       23833.119141  27863.571429   \n",
              "34467  2019      1    1          1     1       23230.160156  27448.588449   \n",
              "34468  2019      1    1          1     2       22241.367188  26539.754185   \n",
              "34469  2019      1    1          1     3       21925.996094  25338.092355   \n",
              "34470  2019      1    1          1     4       23020.617188  24222.520368   \n",
              "\n",
              "             MA_30D real/forecast  \n",
              "34466  26505.900000      forecast  \n",
              "34467  26364.603971      forecast  \n",
              "34468  26164.909310      forecast  \n",
              "34469  25904.888216      forecast  \n",
              "34470  25628.121419      forecast  "
            ]
          },
          "execution_count": 143,
          "metadata": {},
          "output_type": "execute_result"
        }
      ],
      "source": [
        "df.loc[df['real/forecast'] == 'forecast'].head(5)"
      ]
    },
    {
      "cell_type": "code",
      "execution_count": 144,
      "metadata": {
        "id": "JQ2KpMLemazj"
      },
      "outputs": [],
      "source": [
        "def cria_timestamp(df):\n",
        "    return datetime.datetime(int(df['year']), int(df['month']), int(df['day']), int(df['hour']))"
      ]
    },
    {
      "cell_type": "code",
      "execution_count": 145,
      "metadata": {
        "colab": {
          "base_uri": "https://localhost:8080/",
          "height": 423
        },
        "id": "OoBdigQGnlFW",
        "outputId": "9dab1cf2-03ab-4671-826a-a3b546323298"
      },
      "outputs": [
        {
          "data": {
            "text/html": [
              "<div>\n",
              "<style scoped>\n",
              "    .dataframe tbody tr th:only-of-type {\n",
              "        vertical-align: middle;\n",
              "    }\n",
              "\n",
              "    .dataframe tbody tr th {\n",
              "        vertical-align: top;\n",
              "    }\n",
              "\n",
              "    .dataframe thead th {\n",
              "        text-align: right;\n",
              "    }\n",
              "</style>\n",
              "<table border=\"1\" class=\"dataframe\">\n",
              "  <thead>\n",
              "    <tr style=\"text-align: right;\">\n",
              "      <th></th>\n",
              "      <th>year</th>\n",
              "      <th>month</th>\n",
              "      <th>day</th>\n",
              "      <th>dayofweek</th>\n",
              "      <th>hour</th>\n",
              "      <th>total load actual</th>\n",
              "      <th>MA_7D</th>\n",
              "      <th>MA_30D</th>\n",
              "      <th>real/forecast</th>\n",
              "      <th>timestamp</th>\n",
              "    </tr>\n",
              "  </thead>\n",
              "  <tbody>\n",
              "    <tr>\n",
              "      <th>0</th>\n",
              "      <td>2015</td>\n",
              "      <td>1</td>\n",
              "      <td>2</td>\n",
              "      <td>4</td>\n",
              "      <td>4</td>\n",
              "      <td>22066.0</td>\n",
              "      <td>24102.714286</td>\n",
              "      <td>23848.100000</td>\n",
              "      <td>real</td>\n",
              "      <td>2015-01-02 04:00:00</td>\n",
              "    </tr>\n",
              "    <tr>\n",
              "      <th>1</th>\n",
              "      <td>2015</td>\n",
              "      <td>1</td>\n",
              "      <td>2</td>\n",
              "      <td>4</td>\n",
              "      <td>5</td>\n",
              "      <td>22275.0</td>\n",
              "      <td>23456.571429</td>\n",
              "      <td>23744.433333</td>\n",
              "      <td>real</td>\n",
              "      <td>2015-01-02 05:00:00</td>\n",
              "    </tr>\n",
              "    <tr>\n",
              "      <th>2</th>\n",
              "      <td>2015</td>\n",
              "      <td>1</td>\n",
              "      <td>2</td>\n",
              "      <td>4</td>\n",
              "      <td>6</td>\n",
              "      <td>23025.0</td>\n",
              "      <td>22878.714286</td>\n",
              "      <td>23699.200000</td>\n",
              "      <td>real</td>\n",
              "      <td>2015-01-02 06:00:00</td>\n",
              "    </tr>\n",
              "    <tr>\n",
              "      <th>3</th>\n",
              "      <td>2015</td>\n",
              "      <td>1</td>\n",
              "      <td>2</td>\n",
              "      <td>4</td>\n",
              "      <td>7</td>\n",
              "      <td>23699.0</td>\n",
              "      <td>22702.142857</td>\n",
              "      <td>23731.366667</td>\n",
              "      <td>real</td>\n",
              "      <td>2015-01-02 07:00:00</td>\n",
              "    </tr>\n",
              "    <tr>\n",
              "      <th>4</th>\n",
              "      <td>2015</td>\n",
              "      <td>1</td>\n",
              "      <td>2</td>\n",
              "      <td>4</td>\n",
              "      <td>8</td>\n",
              "      <td>25834.0</td>\n",
              "      <td>23076.428571</td>\n",
              "      <td>23882.966667</td>\n",
              "      <td>real</td>\n",
              "      <td>2015-01-02 08:00:00</td>\n",
              "    </tr>\n",
              "  </tbody>\n",
              "</table>\n",
              "</div>"
            ],
            "text/plain": [
              "   year  month  day  dayofweek  hour  total load actual         MA_7D  \\\n",
              "0  2015      1    2          4     4            22066.0  24102.714286   \n",
              "1  2015      1    2          4     5            22275.0  23456.571429   \n",
              "2  2015      1    2          4     6            23025.0  22878.714286   \n",
              "3  2015      1    2          4     7            23699.0  22702.142857   \n",
              "4  2015      1    2          4     8            25834.0  23076.428571   \n",
              "\n",
              "         MA_30D real/forecast           timestamp  \n",
              "0  23848.100000          real 2015-01-02 04:00:00  \n",
              "1  23744.433333          real 2015-01-02 05:00:00  \n",
              "2  23699.200000          real 2015-01-02 06:00:00  \n",
              "3  23731.366667          real 2015-01-02 07:00:00  \n",
              "4  23882.966667          real 2015-01-02 08:00:00  "
            ]
          },
          "execution_count": 145,
          "metadata": {},
          "output_type": "execute_result"
        }
      ],
      "source": [
        "df['timestamp'] = df.apply(lambda x: cria_timestamp(x), axis = 1)\n",
        "df.head()"
      ]
    },
    {
      "cell_type": "code",
      "execution_count": 146,
      "metadata": {
        "colab": {
          "base_uri": "https://localhost:8080/",
          "height": 380
        },
        "id": "O72egagpwC23",
        "outputId": "757650dc-c436-4fa4-d82d-8494df3ea4d3"
      },
      "outputs": [
        {
          "data": {
            "text/plain": [
              "<AxesSubplot: xlabel='timestamp', ylabel='total load actual'>"
            ]
          },
          "execution_count": 146,
          "metadata": {},
          "output_type": "execute_result"
        },
        {
          "data": {
            "image/png": "[encoded data removed]",
            "text/plain": [
              "<Figure size 432x288 with 1 Axes>"
            ]
          },
          "metadata": {
            "needs_background": "light"
          },
          "output_type": "display_data"
        }
      ],
      "source": [
        "test_data = x_test.merge(y_test, left_index = True, right_index = True)\n",
        "test_data['timestamp'] = test_data.apply(lambda x: cria_timestamp(x), axis = 1)\n",
        "test_data['predicted'] = model.predict(test_data.drop(['total load actual', 'timestamp'], axis = 1))\n",
        "x_train = x_train.merge(y_train, left_index = True, right_index = True)\n",
        "x_train['timestamp'] = x_train.apply(lambda x: cria_timestamp(x), axis = 1)\n",
        "sns.lineplot(x = 'timestamp', y = 'total load actual', data = x_train.loc[x_train['timestamp'] >= '2018-01-01 00:00:00'])\n",
        "sns.lineplot(x = 'timestamp', y = 'total load actual', data = test_data)\n",
        "sns.lineplot(x = 'timestamp', y = 'predicted', data = test_data)"
      ]
    },
    {
      "cell_type": "code",
      "execution_count": 149,
      "metadata": {
        "id": "xKosusrquVCO"
      },
      "outputs": [
        {
          "data": {
            "text/plain": [
              "<matplotlib.legend.Legend at 0x259294b1a30>"
            ]
          },
          "execution_count": 149,
          "metadata": {},
          "output_type": "execute_result"
        },
        {
          "data": {
            "image/png": "[encoded data removed]",
            "text/plain": [
              "<Figure size 432x288 with 1 Axes>"
            ]
          },
          "metadata": {
            "needs_background": "light"
          },
          "output_type": "display_data"
        }
      ],
      "source": [
        "ax = sns.lineplot(data = df.loc[df.timestamp >= '2018-01-01 00:00:00'], y = 'total load actual', x = 'timestamp', hue = 'real/forecast')\n",
        "\n",
        "sns.lineplot(data = df.loc[df.timestamp >= '2018-01-01 00:00:00'], y = 'MA_30D', x = 'timestamp', linestyle = '--', color = 'r')\n",
        "ax.legend([])"
      ]
    },
    {
      "cell_type": "code",
      "execution_count": 148,
      "metadata": {
        "id": "HIBHuHWzxjla"
      },
      "outputs": [
        {
          "data": {
            "image/png": "[encoded data removed]",
            "text/plain": [
              "<Figure size 432x288 with 1 Axes>"
            ]
          },
          "metadata": {
            "needs_background": "light"
          },
          "output_type": "display_data"
        }
      ],
      "source": [
        "fi = pd.DataFrame(data=model.feature_importances_,\n",
        "             index=x_train.drop(['timestamp', 'total load actual'], axis = 1).columns,\n",
        "             columns=['importance'])\n",
        "fi.sort_values('importance').plot(kind='barh', title='Feature Importance')\n",
        "plt.show()"
      ]
    },
    {
      "cell_type": "code",
      "execution_count": 150,
      "metadata": {},
      "outputs": [],
      "source": [
        "model.save_model('model.json')"
      ]
    }
  ],
  "metadata": {
    "colab": {
      "provenance": []
    },
    "kernelspec": {
      "display_name": "teste",
      "language": "python",
      "name": "python3"
    },
    "language_info": {
      "codemirror_mode": {
        "name": "ipython",
        "version": 3
      },
      "file_extension": ".py",
      "mimetype": "text/x-python",
      "name": "python",
      "nbconvert_exporter": "python",
      "pygments_lexer": "ipython3",
      "version": "3.9.7"
    },
    "orig_nbformat": 4,
    "vscode": {
      "interpreter": {
        "hash": "1d837b323c6ce9aa7029450ef62e0f4a09705a988ce85c449a8b7105975c596a"
      }
    }
  },
  "nbformat": 4,
  "nbformat_minor": 0
}
